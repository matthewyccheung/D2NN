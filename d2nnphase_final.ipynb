{
  "nbformat": 4,
  "nbformat_minor": 0,
  "metadata": {
    "colab": {
      "name": "d2nnphase_final.ipynb",
      "provenance": [],
      "collapsed_sections": [],
      "machine_shape": "hm"
    },
    "kernelspec": {
      "name": "python3",
      "display_name": "Python 3"
    },
    "accelerator": "GPU"
  },
  "cells": [
    {
      "cell_type": "code",
      "metadata": {
        "id": "UaOvZLA1joDg",
        "outputId": "6ad55e47-a1f2-4768-9d2f-9c361986d270",
        "colab": {
          "base_uri": "https://localhost:8080/",
          "height": 34
        }
      },
      "source": [
        "from google.colab import drive\n",
        "drive.mount('/content/drive')"
      ],
      "execution_count": null,
      "outputs": [
        {
          "output_type": "stream",
          "text": [
            "Drive already mounted at /content/drive; to attempt to forcibly remount, call drive.mount(\"/content/drive\", force_remount=True).\n"
          ],
          "name": "stdout"
        }
      ]
    },
    {
      "cell_type": "code",
      "metadata": {
        "id": "un0dUbrYjrEc",
        "outputId": "d23a6dd6-b697-491c-9f84-f5c19fe77129",
        "colab": {
          "base_uri": "https://localhost:8080/",
          "height": 34
        }
      },
      "source": [
        "cd /content/drive/My Drive/d2nn"
      ],
      "execution_count": null,
      "outputs": [
        {
          "output_type": "stream",
          "text": [
            "/content/drive/My Drive/d2nn\n"
          ],
          "name": "stdout"
        }
      ]
    },
    {
      "cell_type": "code",
      "metadata": {
        "id": "dhMvv5-2jxvP"
      },
      "source": [
        "import tensorflow as tf\n",
        "import numpy as np\n",
        "from math import pi\n",
        "from tensorflow.keras import layers\n",
        "from scipy.fftpack import fft2\n",
        "import time\n",
        "import os\n",
        "import matplotlib.pyplot as plt\n",
        "from datetime import datetime\n",
        "import pickle\n",
        "import pprint\n",
        "from tempfile import TemporaryFile"
      ],
      "execution_count": null,
      "outputs": []
    },
    {
      "cell_type": "code",
      "metadata": {
        "id": "m-fPpmnThIfn"
      },
      "source": [
        "import pickle\n",
        "def load_cfar10_batch(cifar10_dataset_folder_path, batch_id):\n",
        "    with open(cifar10_dataset_folder_path + '/data_batch_' + str(batch_id), mode='rb') as file:\n",
        "        # note the encoding type is 'latin1'\n",
        "        batch = pickle.load(file, encoding='latin1')\n",
        "        \n",
        "    features = batch['data'].reshape((len(batch['data']), 3, 28, 28)).transpose(0, 2, 3, 1)\n",
        "    labels = batch['labels']\n",
        "        \n",
        "    return features, labels"
      ],
      "execution_count": null,
      "outputs": []
    },
    {
      "cell_type": "code",
      "metadata": {
        "id": "dNPUacVXmmPy",
        "outputId": "87ed8305-bb00-4196-f546-1c13871d4a62",
        "colab": {
          "base_uri": "https://localhost:8080/",
          "height": 408
        }
      },
      "source": [
        "gpu_info = !nvidia-smi\n",
        "gpu_info = '\\n'.join(gpu_info)\n",
        "if gpu_info.find('failed') >= 0:\n",
        "  print('Select the Runtime → \"Change runtime type\" menu to enable a GPU accelerator, ')\n",
        "  print('and then re-execute this cell.')\n",
        "else:\n",
        "  print(gpu_info)\n",
        "\n",
        "from psutil import virtual_memory\n",
        "ram_gb = virtual_memory().total / 1e9\n",
        "print('Your runtime has {:.1f} gigabytes of available RAM\\n'.format(ram_gb))\n",
        "\n",
        "if ram_gb < 20:\n",
        "  print('To enable a high-RAM runtime, select the Runtime → \"Change runtime type\"')\n",
        "  print('menu, and then select High-RAM in the Runtime shape dropdown. Then, ')\n",
        "  print('re-execute this cell.')\n",
        "else:\n",
        "  print('You are using a high-RAM runtime!')"
      ],
      "execution_count": null,
      "outputs": [
        {
          "output_type": "stream",
          "text": [
            "Wed Jul  8 02:00:37 2020       \n",
            "+-----------------------------------------------------------------------------+\n",
            "| NVIDIA-SMI 450.36.06    Driver Version: 418.67       CUDA Version: 10.1     |\n",
            "|-------------------------------+----------------------+----------------------+\n",
            "| GPU  Name        Persistence-M| Bus-Id        Disp.A | Volatile Uncorr. ECC |\n",
            "| Fan  Temp  Perf  Pwr:Usage/Cap|         Memory-Usage | GPU-Util  Compute M. |\n",
            "|                               |                      |               MIG M. |\n",
            "|===============================+======================+======================|\n",
            "|   0  Tesla P100-PCIE...  Off  | 00000000:00:04.0 Off |                    0 |\n",
            "| N/A   50C    P0    36W / 250W |   8769MiB / 16280MiB |      0%      Default |\n",
            "|                               |                      |                 ERR! |\n",
            "+-------------------------------+----------------------+----------------------+\n",
            "                                                                               \n",
            "+-----------------------------------------------------------------------------+\n",
            "| Processes:                                                                  |\n",
            "|  GPU   GI   CI        PID   Type   Process name                  GPU Memory |\n",
            "|        ID   ID                                                   Usage      |\n",
            "|=============================================================================|\n",
            "|  No running processes found                                                 |\n",
            "+-----------------------------------------------------------------------------+\n",
            "Your runtime has 27.4 gigabytes of available RAM\n",
            "\n",
            "You are using a high-RAM runtime!\n"
          ],
          "name": "stdout"
        }
      ]
    },
    {
      "cell_type": "code",
      "metadata": {
        "id": "YALIETNJj022"
      },
      "source": [
        "class grating_layer(layers.Layer):\n",
        "    ''' Generates grating multiplication layer\n",
        "        Spatially multiplies input with grating layer\n",
        "    '''\n",
        "    def __init__(self, period, grating_type):\n",
        "        super(grating_layer, self).__init__()\n",
        "        self.period = period\n",
        "        self.grating_type = grating_type\n",
        "\n",
        "    def call(self, x):\n",
        "        if self.grating_type == 'sin_phase':\n",
        "            self.grating = self.generate_sinudoidal_phase_grating(x.get_shape()[1])\n",
        "        elif self.grating_type == 'bin_phase':\n",
        "            self.grating = self.generate_binary_phase_grating(x.get_shape()[1])\n",
        "        elif self.grating_type == 'bin':\n",
        "            self.grating = self.generate_binary_grating(x.get_shape()[1])\n",
        "        return tf.map_fn(self.apply_grating, x)\n",
        "\n",
        "    def apply_grating(self, x):\n",
        "        return tf.math.multiply(x, self.grating)\n",
        "\n",
        "    def generate_binary_grating(self, image_dimension):\n",
        "        number_of_gratings = tf.constant([image_dimension//self.period], 'int64')\n",
        "        #unit_grating = tf.constant(np.array([0.0] + [1.0]*(self.period - 2) + [0.0]), 'complex64')\n",
        "        grating_1d = tf.cast(tf.constant(np.array([0, 1]*int((28*self.period)//2))), 'complex64')\n",
        "        [grating_2dx, grating_2dy] = tf.meshgrid(grating_1d, grating_1d)\n",
        "        grating_2d = tf.math.multiply(grating_2dx, grating_2dy)\n",
        "        return tf.cast(grating_2d, 'complex64')\n",
        "\n",
        "    def generate_sinudoidal_phase_grating(self, image_dimension):\n",
        "        number_of_gratings = tf.constant([image_dimension//self.period], 'int64')\n",
        "        x = tf.linspace(0.0, 2*pi, self.period)\n",
        "        unit_grating = tf.math.sin(x, 'complex64')\n",
        "        grating_1d = tf.tile(unit_grating, number_of_gratings, 'complex64')\n",
        "        [grating_2dx, grating_2dy] = tf.meshgrid(grating_1d, grating_1d)\n",
        "        grating_2d = tf.math.multiply(grating_2dx, grating_2dy)\n",
        "        return tf.cast(tf.math.exp(grating_2d), 'complex64')\n",
        "\n",
        "    def generate_binary_phase_grating(self, image_dimension):\n",
        "        number_of_gratings = tf.constant([image_dimension//self.period], 'int64')\n",
        "        #unit_grating = tf.constant(np.array([0.0] + [1.0]*(self.period - 2) + [0.0]), 'complex64')\n",
        "        grating_1d = tf.cast(tf.constant(np.array([0, pi]*int((28*self.period)//2))), 'complex64')\n",
        "        [grating_2dx, grating_2dy] = tf.meshgrid(grating_1d, grating_1d)\n",
        "        grating_2d = tf.math.multiply(grating_2dx, grating_2dy)\n",
        "        return tf.cast(tf.math.exp(grating_2d), 'complex64')\n",
        "\n",
        "class batch_normalize_2_images(layers.Layer):\n",
        "\n",
        "    def __init__(self):\n",
        "        super(batch_normalize_2_images, self).__init__()\n",
        "\n",
        "    def call(self, x):\n",
        "        epsilon = 1e-3\n",
        "        stack = tf.math.divide(x, tf.constant(2.0, 'complex64'))\n",
        "        batch_mean2, batch_var2 = tf.nn.moments(x=stack,axes=[0])\n",
        "        batch_mean2 = tf.cast(batch_mean2, 'float32')\n",
        "        batch_var2 = tf.cast(batch_var2, 'float32')\n",
        "        scale2 = tf.cast(tf.Variable(tf.ones(stack.get_shape())), 'float32')\n",
        "        beta2 = tf.cast(tf.Variable(tf.zeros(stack.get_shape())), 'float32')\n",
        "        BN_x = tf.nn.batch_normalization(x, batch_mean2, batch_var2, beta2, scale2, epsilon)\n",
        "        return BN_x\n",
        "\n",
        "class normalize_2_complex_images(layers.Layer):\n",
        "\n",
        "    def __init__(self):\n",
        "        super(normalize_2_complex_images, self).__init__()\n",
        "\n",
        "    def call(self, x):\n",
        "        norm_x = tf.map_fn(self.apply_conv, x)\n",
        "        return norm_x\n",
        "\n",
        "    def apply_conv(self, x):\n",
        "        x_max = tf.reduce_max(input_tensor=tf.abs(x))\n",
        "        norm_x = tf.math.divide(x, tf.cast(x_max, 'complex64'))\n",
        "        return norm_x\n",
        "\n",
        "class scale_2_complex_images(layers.Layer):\n",
        "    ''' Resizes images to original shape x scale\n",
        "            Original shape x scale must be integer number\n",
        "            Tensorflow does not support resizing complex valued tensors\n",
        "            tf.image.resize \n",
        "    '''\n",
        "    def __init__(self, scale):\n",
        "        super(scale_2_complex_images, self).__init__()\n",
        "        self.scale = scale\n",
        "\n",
        "    def call(self, x):\n",
        "        sx = tf.map_fn(self.apply_scale, x)\n",
        "        return sx\n",
        "\n",
        "    def apply_scale(self, x):\n",
        "        ''' Takes 2-D Tensor, returns scaled 2-D Tensor '''\n",
        "        s = tf.identity(x)\n",
        "        s_shape = tf.shape(input=s)\n",
        "        s = tf.reshape(s, [s_shape[0], s_shape[1], 1])\n",
        "        s = tf.tile(s, [1, 1, self.scale])\n",
        "        s = tf.reshape(s, [s_shape[0], s_shape[1]*self.scale])\n",
        "        s = tf.reshape(s, [s_shape[0], s_shape[1]*self.scale, 1])\n",
        "        s = tf.tile(s, [1, 1, self.scale])\n",
        "        s = tf.transpose(a=s, perm=[0, 2, 1])\n",
        "        s = tf.reshape(s, [s_shape[0]*self.scale, s_shape[1]*self.scale])\n",
        "        return s"
      ],
      "execution_count": null,
      "outputs": []
    },
    {
      "cell_type": "code",
      "metadata": {
        "id": "gM5mQhafkGf7"
      },
      "source": [
        "class propagation_layer(layers.Layer):\n",
        "    ''' Propagator layer with fft convolution implementation\n",
        "        fft empirically determined to be faster for large kernels\n",
        "        Input to fsp layer must be physical values\n",
        "    '''\n",
        "    def __init__(self, source_grid_size, lc_array_size, dx, dist, wavelength, prop_type):\n",
        "        super(propagation_layer, self).__init__()\n",
        "        self.source_grid_size = source_grid_size\n",
        "        self.lc_array_size = lc_array_size\n",
        "        self.dx = dx\n",
        "        self.prop_dist = dist\n",
        "        #self.prop_dist = tf.Variable(initial_value = 0.001, trainable = True, constraint=lambda t: tf.clip_by_value(t, 0, 2e-3), dtype = 'float32')\n",
        "        self.wavelength = wavelength\n",
        "        self.propagator = self.make_TF_propagator()\n",
        "\n",
        "    def make_TF_propagator(self):\n",
        "        L = self.lc_array_size\n",
        "        dx = self.dx\n",
        "        prop_dist = self.prop_dist\n",
        "        wavelength = self.wavelength\n",
        "        fx = np.arange(-1/(2*dx), 1/(2.*dx), 1/L)\n",
        "        [FX, FY] = np.meshgrid(fx, fx)\n",
        "        H = np.exp(-1j*pi*wavelength*prop_dist*(np.square(FX) + np.square(FY)))\n",
        "        H = np.fft.fftshift(H)\n",
        "        return tf.constant(H, 'complex64')\n",
        "\n",
        "    def call(self, x):\n",
        "        x = tf.cast(x, 'complex64')\n",
        "        conv_x = tf.map_fn(self.apply_conv, x)\n",
        "        return conv_x\n",
        "\n",
        "    def apply_conv(self, x):\n",
        "    \t  conv_x = self.conv2dfft(self.propagator, x)\n",
        "    \t  return conv_x\n",
        "             \n",
        "    def conv2dfft(self, A, B):\n",
        "    \tB = tf.signal.fft2d(tf.signal.fftshift(B))\n",
        "    \tfftAB = tf.math.multiply(A, B)\n",
        "    \treturn tf.signal.ifftshift(tf.signal.ifft2d(fftAB))\n",
        "\n",
        "class dmd_layer(layers.Layer):\n",
        "    \n",
        "    def __init__(self, num_weights, scale):\n",
        "        super(dmd_layer, self).__init__()\n",
        "        num_weights = int(num_weights)\n",
        "        self.scale = scale\n",
        "        self.transmission = tf.Variable(initial_value = np.random.normal(0.0, 1.0, (num_weights, num_weights)), trainable = True, constraint=lambda t: tf.clip_by_value(t, 0, 1))\n",
        "\n",
        "    def call(self, x):\n",
        "        self.batch_size = x.get_shape()[0]\n",
        "        scaled_weights = self.scale_weights() \n",
        "        return self.dmd(x, scaled_weights)\n",
        "\n",
        "    def scale_weights(self):\n",
        "        ''' Scales weights from nxn to n*scale x n*scale\n",
        "            For example, scales 28x28 to 2800x2800 if scale = 100, each 1 pixel\n",
        "                is scaled to 100x100\n",
        "        '''\n",
        "        multiplier = int(1/self.scale)\n",
        "        w = tf.identity(self.transmission)\n",
        "        w_shape = tf.shape(input=w)\n",
        "        w = tf.reshape(w, [w_shape[0], w_shape[1], 1])\n",
        "        w = tf.tile(w, [1, 1, multiplier])\n",
        "        w = tf.reshape(w, [w_shape[0], w_shape[1]*multiplier])\n",
        "        w = tf.reshape(w, [w_shape[0], w_shape[1]*multiplier, 1])\n",
        "        w = tf.tile(w, [1, 1, multiplier])\n",
        "        w = tf.transpose(a=w, perm=[0, 2, 1])\n",
        "        w = tf.reshape(w, [1, w_shape[0]*multiplier, w_shape[1]*multiplier])\n",
        "        w = tf.tile(w, [self.batch_size, 1, 1])\n",
        "        return w\n",
        "    \n",
        "    def dmd(self, x, scaled_weights):\n",
        "        return tf.math.multiply(x, tf.cast(scaled_weights, 'complex64'))\n",
        "\n",
        "class phaseret_layer(layers.Layer):\n",
        "    \n",
        "    def __init__(self, num_weights, scale):\n",
        "        super(phaseret_layer, self).__init__()\n",
        "        num_weights = int(num_weights)\n",
        "        self.scale = scale\n",
        "        self.phase = tf.Variable(initial_value = np.random.normal(0.0, 1.0, (num_weights, num_weights)), trainable = True, constraint=lambda t: tf.clip_by_value(t, 0, 2*pi))\n",
        "\n",
        "    def call(self, x):\n",
        "        self.batch_size = x.get_shape()[0]\n",
        "        scaled_weights = self.scale_weights() \n",
        "        return self.phaseret(x, scaled_weights)\n",
        "\n",
        "    def scale_weights(self):\n",
        "        ''' Scales weights from nxn to n*scale x n*scale\n",
        "            For example, scales 28x28 to 2800x2800 if scale = 100, each 1 pixel\n",
        "                is scaled to 100x100\n",
        "        '''\n",
        "        multiplier = int(1/self.scale)\n",
        "        w = tf.identity(self.phase)\n",
        "        w_shape = tf.shape(input=w)\n",
        "        w = tf.reshape(w, [w_shape[0], w_shape[1], 1])\n",
        "        w = tf.tile(w, [1, 1, multiplier])\n",
        "        w = tf.reshape(w, [w_shape[0], w_shape[1]*multiplier])\n",
        "        w = tf.reshape(w, [w_shape[0], w_shape[1]*multiplier, 1])\n",
        "        w = tf.tile(w, [1, 1, multiplier])\n",
        "        w = tf.transpose(a=w, perm=[0, 2, 1])\n",
        "        w = tf.reshape(w, [1, w_shape[0]*multiplier, w_shape[1]*multiplier])\n",
        "        w = tf.tile(w, [self.batch_size, 1, 1])\n",
        "        return w\n",
        "    \n",
        "    def phaseret(self, x, scaled_weights):\n",
        "        return tf.math.multiply(x, tf.math.exp(tf.cast(scaled_weights, 'complex64')))\n",
        "\n",
        "class eval_layer(layers.Layer):\n",
        "    ''' Converts output to one hot form\n",
        "        Applies softmax\n",
        "\n",
        "        slice matrix/unpad\n",
        "        pool\n",
        "    '''\n",
        "    def __init__(self):\n",
        "        super(eval_layer, self).__init__()\n",
        "\n",
        "    def call(self, x):\n",
        "        Ix = tf.cast(tf.math.square(tf.math.abs(x)), 'float32')\n",
        "        r = tf.map_fn(self.eval, Ix)\n",
        "        r = tf.cast(r, 'float32')\n",
        "        return r\n",
        "\n",
        "    def eval(self, Ix):\n",
        "        # im = self.unpad(Ix)\n",
        "        im = Ix\n",
        "        ws = im.shape[0]//4\n",
        "        pooled =  tf.nn.pool(input=tf.cast(tf.reshape(im,\n",
        "                            [1, im.shape[0], im.shape[1], 1]),'float32'),\n",
        "                            window_shape = (ws, ws), pooling_type = 'AVG',\n",
        "                            padding = 'SAME', strides = [ws, ws])\n",
        "        pooled = tf.reshape(tf.reshape(pooled, [4, 4]), [1, 16])[0][0:10]\n",
        "        pooled = tf.cast(pooled, 'float32')\n",
        "        return pooled"
      ],
      "execution_count": null,
      "outputs": []
    },
    {
      "cell_type": "code",
      "metadata": {
        "id": "x5GZnAVdkHJ8"
      },
      "source": [
        "class d2nn_model(object):\n",
        "    def __init__(self):\n",
        "        #super(YourModel, self).__init__()\n",
        "        self.num_epoch = 80\n",
        "        self.batch_size = 8\n",
        "        self.log_step = 100\n",
        "        self.lr = 1e-2\n",
        "        self._build_model()\n",
        "\n",
        "    def m(self):\n",
        "\n",
        "        input_shape = 28\n",
        "        wavelength = 690e-9\n",
        "        lc_size = 2e-6\n",
        "        prop_dist = 1e-3\n",
        "\n",
        "        im_rescale = 30\n",
        "        pixels_per_lc = 1\n",
        "\n",
        "        scale1 = scale_2_complex_images(im_rescale*pixels_per_lc)\n",
        "        # grating = grating_layer(im_rescale*pixels_per_lc, 'bin_phase')\n",
        "        grating = lambda x: x\n",
        "        num_weights = input_shape*im_rescale\n",
        "        dmd = phaseret_layer(num_weights, 1.0/pixels_per_lc)\n",
        "        normalize = normalize_2_complex_images()\n",
        "        bn = batch_normalize_2_images()\n",
        "\n",
        "        source_grid_size = input_shape*im_rescale*pixels_per_lc\n",
        "        lc_array_size = input_shape*im_rescale*lc_size\n",
        "        dx = lc_size/pixels_per_lc\n",
        "        propagate1 = propagation_layer(source_grid_size, lc_array_size, dx, prop_dist, wavelength, 'TF')\n",
        "        evaluate = eval_layer()\n",
        "        \n",
        "        with tf.compat.v1.variable_scope('scale1'):\n",
        "            self.x0 = scale1(self.X)\n",
        "        with tf.compat.v1.variable_scope('b1'):\n",
        "            self.xl1 = dmd(self.x0)\n",
        "            self.xg1 = grating(self.xl1)\n",
        "            self.xp1 = propagate1(self.xg1)\n",
        "            self.xn1 = normalize(self.xp1)\n",
        "        with tf.compat.v1.variable_scope('b2'):\n",
        "            self.xl2 = dmd(self.xn1)\n",
        "            self.xg2 = grating(self.xl2)\n",
        "            self.xp2 = propagate1(self.xg2)\n",
        "            self.xn2 = normalize(self.xp2)\n",
        "        with tf.compat.v1.variable_scope('b3'):\n",
        "            self.xl3 = dmd(self.xn2)\n",
        "            self.xg3 = grating(self.xl3)\n",
        "            self.xp3 = propagate1(self.xg3)\n",
        "            self.xn3 = normalize(self.xp3)\n",
        "        with tf.compat.v1.variable_scope('b4'):\n",
        "            self.xl4 = dmd(self.xn3)\n",
        "            self.xg4 = grating(self.xl4)\n",
        "            self.xp4 = propagate1(self.xg4)\n",
        "            self.xn4 = normalize(self.xp4)\n",
        "        with tf.compat.v1.variable_scope('b5'):\n",
        "            self.xl5 = dmd(self.xn4)\n",
        "            self.xg5 = grating(self.xl5)\n",
        "            self.xp5 = propagate1(self.xg5)\n",
        "            self.xn5 = normalize(self.xp5)\n",
        "        with tf.compat.v1.variable_scope('b6'):\n",
        "            self.xl6 = dmd(self.xn5)\n",
        "            self.xg6 = grating(self.xl6)\n",
        "            self.xp6 = propagate1(self.xg6)\n",
        "            self.xn6 = normalize(self.xp6)\n",
        "        with tf.compat.v1.variable_scope('b7'):\n",
        "            self.xl7 = dmd(self.xn6)\n",
        "            self.xg7 = grating(self.xl7)\n",
        "            self.xp7 = propagate1(self.xg7)\n",
        "            self.xn7 = normalize(self.xp7)\n",
        "        with tf.compat.v1.variable_scope('b8'):\n",
        "            self.xl8 = dmd(self.xn7)\n",
        "            self.xg8 = grating(self.xl8)\n",
        "            self.xp8 = propagate1(self.xg8)\n",
        "            self.xn8 = normalize(self.xp8)\n",
        "        # with tf.compat.v1.variable_scope('b9'):\n",
        "        #     self.xl9 = dmd(self.xn8)\n",
        "        #     self.xg9 = grating(self.xl9)\n",
        "        #     self.xp9 = propagate1(self.xg9)\n",
        "        #     self.xn9 = normalize(self.xp9)\n",
        "        # with tf.compat.v1.variable_scope('b10'):\n",
        "        #     self.xl10 = dmd(self.xn9)\n",
        "        #     self.xg10 = grating(self.xl10)\n",
        "        #     self.xp10 = propagate1(self.xg10)\n",
        "        #     self.xn10 = normalize(self.xp10)\n",
        "        # with tf.compat.v1.variable_scope('b11'):\n",
        "        #     self.xl11 = dmd(self.xn10)\n",
        "        #     self.xg11 = grating(self.xl11)\n",
        "        #     self.xp11 = propagate1(self.xg11)\n",
        "        #     self.xn11 = normalize(self.xp11)\n",
        "        # with tf.compat.v1.variable_scope('b9'):\n",
        "        #     self.xl9 = dmd(self.xn8)\n",
        "        #     self.xg9 = grating(self.xl9)\n",
        "        #     self.xp9 = propagate1(self.xg9)\n",
        "        #     self.xn9 = normalize(self.xp9)\n",
        "        # with tf.compat.v1.variable_scope('b10'):\n",
        "        #     self.xl10 = dmd(self.xn9)\n",
        "        #     self.xg10 = grating(self.xl10)\n",
        "        #     self.xp10 = propagate1(self.xg10)\n",
        "        #     self.xn10 = normalize(self.xp10)\n",
        "        # with tf.compat.v1.variable_scope('b11'):\n",
        "        #     self.xl11 = dmd(self.xn10)\n",
        "        #     self.xg11 = grating(self.xl11)\n",
        "        #     self.xp11 = propagate1(self.xg11)\n",
        "        #     self.xn11 = normalize(self.xp11)\n",
        "        # with tf.compat.v1.variable_scope('b12'):\n",
        "        #     self.xl12 = dmd(self.xn11)\n",
        "        #     self.xg12 = grating(self.xl12)\n",
        "        #     self.xp12 = propagate1(self.xg12)\n",
        "        #     self.xn12 = normalize(self.xp12)\n",
        "        with tf.compat.v1.variable_scope('eval1'):\n",
        "            self.result = evaluate(self.xn8)\n",
        "        return self.result\n",
        "\n",
        "    def _input_ops(self):\n",
        "        # Placeholders\n",
        "        self.X = tf.compat.v1.placeholder(tf.complex64, [self.batch_size, None, None])\n",
        "        self.Y = tf.compat.v1.placeholder(tf.int64, [self.batch_size])\n",
        "        self.is_train = tf.compat.v1.placeholder(tf.bool)\n",
        "        self.keep_prob = tf.compat.v1.placeholder(tf.float32)\n",
        "\n",
        "    def _build_optimizer(self):\n",
        "        self.train_op = tf.compat.v1.train.AdamOptimizer(self.lr).minimize(self.loss_op)\n",
        "        #self.train_op = tf.train.GradientDescentOptimizer(self.lr*10).minimize(self.loss_op)\n",
        "\n",
        "    def _loss(self, labels, logits):\n",
        "        self.loss_op = tf.reduce_mean(input_tensor=tf.nn.softmax_cross_entropy_with_logits(labels=tf.stop_gradient(tf.one_hot(self.Y,10)), logits=self.result))\n",
        "\n",
        "    def _build_model(self):\n",
        "        # Define input variables\n",
        "        self._input_ops()\n",
        "        # Convert Y to one-hot vector\n",
        "        labels = tf.one_hot(self.Y, 10)\n",
        "        # Build a model and get logits\n",
        "        logits = self.m()\n",
        "        # Compute loss\n",
        "        self._loss(labels, logits)\n",
        "        # Build optimizer\n",
        "        self._build_optimizer()\n",
        "        # Compute accuracy\n",
        "        predict = tf.argmax(input=logits, axis=1)\n",
        "        correct = tf.equal(predict, self.Y)\n",
        "        self.accuracy_op = tf.reduce_mean(input_tensor=tf.cast(correct, tf.float32))\n",
        "\n",
        "    def train(self, sess, X_train, Y_train, X_val, Y_val):\n",
        "        sess.run(tf.compat.v1.global_variables_initializer())\n",
        "        step = 0\n",
        "        losses = []\n",
        "        accuracies = []\n",
        "        validations = []\n",
        "        dval = []\n",
        "        print('-' * 5 + '  Start training  ' + '-' * 5)\n",
        "        start=datetime.now()\n",
        "        for epoch in range(self.num_epoch):\n",
        "            X_train, Y_train = shuffle(X_train, Y_train)\n",
        "            print('train for epoch %d' % epoch)\n",
        "            for i in range(X_train.shape[0] // self.batch_size):\n",
        "                X_ = X_train[i * self.batch_size:(i + 1) * self.batch_size][:]\n",
        "                Y_ = Y_train[i * self.batch_size:(i + 1) * self.batch_size]\n",
        "                feed_dict = {self.X: X_,\n",
        "                             self.Y: Y_,\n",
        "                             self.is_train: True}\n",
        "                fetches = [self.train_op, self.loss_op, self.accuracy_op]\n",
        "\n",
        "                _, loss, accuracy = sess.run(fetches, feed_dict=feed_dict)\n",
        "                losses.append(loss)\n",
        "                accuracies.append(accuracy)\n",
        "\n",
        "                runtime = datetime.now()-start\n",
        "\n",
        "                if step % self.log_step == 0:\n",
        "                    print('iteration (%d): loss = %.3f, accuracy = %.3f, time = ' % (step, loss, accuracy) + str(runtime))\n",
        "                step += 1\n",
        "                if step % 3000 == 0:\n",
        "                    self.lr = self.lr*0.9\n",
        "\n",
        "            savestring = 'tr_nograting_phase_s30_d1en2_ws1_bs8_lr5en3adam_32bit_8k_8layers'\n",
        "    \n",
        "            # Plot training curves\n",
        "            plt.subplot(3, 1, 1)\n",
        "            plt.plot(losses)\n",
        "            plt.ylabel('Loss')\n",
        "            plt.xlabel('Iteration')\n",
        "            plt.grid(True)\n",
        "            ## Graph 2. X: epoch, Y: training accuracy\n",
        "            #plt.subplot(3, 1, 2)\n",
        "            #plt.plot(accuracies)\n",
        "            #plt.grid(True)\n",
        "            #plt.xlabel('Iteration (Epoch {}'.format(epoch+1) + ')')\n",
        "            #plt.ylabel('Training Accuracy') \n",
        "\n",
        "            # Print validation results\n",
        "            print('validation for epoch %d' % epoch)\n",
        "            val_accuracy = self.evaluate(sess, X_val, Y_val)\n",
        "            print('-  epoch %d: validation accuracy = %.3f' % (epoch, val_accuracy))\n",
        "            validations.append(val_accuracy)\n",
        "            epoches = np.arange(epoch + 1)\n",
        "            if epoch > 3:      \n",
        "                dval.append(np.average(np.gradient(validations[-4:])))\n",
        "                plt.subplot(3, 1, 2)\n",
        "                plt.plot(epoches[4:], dval)\n",
        "                plt.xlabel('Epoch')\n",
        "                plt.ylabel('dval/depoch')\n",
        "                plt.grid(True)\n",
        "                for x, y in zip(epoches[4:], dval):\n",
        "                    plt.text(x, y, str(float(y)), color = 'red', fontsize = 3, rotation = 90)\n",
        "\n",
        "            plt.subplot(3, 1, 3)\n",
        "            plt.plot(epoches, validations)\n",
        "            plt.xlabel('Epoch')\n",
        "            plt.ylabel('Val accuracy')\n",
        "            plt.grid(True)\n",
        "            for x, y in zip(epoches, validations):\n",
        "                plt.text(x, y, str(float(y)), color = 'red', fontsize = 3, rotation = 90)\n",
        "            plt.savefig(savestring + '.png', dpi = 1000)\n",
        "            np.save('phase_val_data.npy', np.vstack((epoches, validations)))\n",
        "            np.save('phase_loss_data.npy', losses)\n",
        "\n",
        "\n",
        "    def evaluate(self, sess, X_eval, Y_eval):\n",
        "        eval_accuracy = 0.0\n",
        "        eval_iter = 0.0\n",
        "        print('eval_shape = ', X_eval.shape[0] // self.batch_size)\n",
        "        for i in range(X_eval.shape[0] // self.batch_size):\n",
        "            X_ = X_eval[i * self.batch_size:(i + 1) * self.batch_size][:]\n",
        "            Y_ = Y_eval[i * self.batch_size:(i + 1) * self.batch_size]\n",
        "\n",
        "            feed_dict = {self.X: X_,\n",
        "                            self.Y: Y_,\n",
        "                            self.is_train: False}\n",
        "\n",
        "            accuracy = sess.run(self.accuracy_op, feed_dict=feed_dict)\n",
        "            eval_accuracy += accuracy\n",
        "            eval_iter += 1.0\n",
        "        return eval_accuracy / eval_iter"
      ],
      "execution_count": null,
      "outputs": []
    },
    {
      "cell_type": "code",
      "metadata": {
        "id": "ssNU9sP-kU6Y",
        "outputId": "e5e10b76-1531-401b-e346-3e37541af27e",
        "colab": {
          "base_uri": "https://localhost:8080/",
          "height": 1000
        }
      },
      "source": [
        "def shuffle(X, Y):\n",
        "    train_indices = np.arange(X.shape[0])\n",
        "    np.random.shuffle(train_indices)\n",
        "    X_result = X[train_indices,:, :]\n",
        "    Y_result = Y[train_indices]\n",
        "    return X_result, Y_result\n",
        "\n",
        "def load_mnist_data():\n",
        "    with open('mnist.pickle', 'rb') as f:\n",
        "        print('Loading Pickled Data...')\n",
        "        return pickle.load(f)\n",
        "\n",
        "def grayscale(data, dtype='float32'):\n",
        "    # luma coding weighted average in video systems\n",
        "    r, g, b = np.asarray(.3, dtype=dtype), np.asarray(.59, dtype=dtype), np.asarray(.11, dtype=dtype)\n",
        "    rst = r * data[:, :, :, 0] + g * data[:, :, :, 1] + b * data[:, :, :, 2]\n",
        "    # add channel dimension\n",
        "    rst = np.expand_dims(rst, axis=3)\n",
        "    return rst\n",
        "\n",
        "if __name__ == '__main__':\n",
        "    # Clear old computational graphs\n",
        "    tf.compat.v1.reset_default_graph()\n",
        "    config = tf.compat.v1.ConfigProto(allow_soft_placement=True, log_device_placement=True)\n",
        "    with tf.compat.v1.Session(config=config) as sess:\n",
        "\n",
        "        (x_train, y_train), (x_test, y_test) = load_mnist_data()\n",
        "        \n",
        "        num_train = 8000\n",
        "        num_val = 2000\n",
        "        num_test = 2000\n",
        "        x_train, y_train = shuffle(x_train, y_train)\n",
        "        x_test, y_test = shuffle(x_test, y_test)\n",
        "        x_val = x_train[-num_val::, :, :]\n",
        "        y_val = y_train[-num_val::]\n",
        "        x_train = x_train[0:num_train, :, :]\n",
        "        y_train = y_train[0:num_train]\n",
        "        x_test = x_test[0:num_test, :, :]\n",
        "        y_test = y_test[0:num_test]   \n",
        "\n",
        "\n",
        "        # # train all\n",
        "        # x_val = x_train[-10000:, :, :].astype('float64')\n",
        "        # y_val = y_train[-10000:].astype('float64')\n",
        "        # xx_train = x_train[:-10000, :, :].astype('float64')\n",
        "        # xy_train = np.zeros(xx_train.shape).astype('float64') + 1e-15\n",
        "        # y_train = y_train[:-10000].astype('float64')\n",
        "        # x_test = x_test.astype('float64')\n",
        "        # y_test = y_test.astype('float64')\n",
        "\n",
        "        #x_train, y_train = shuffle(x_train, y_train)\n",
        "        #x_test, y_test = shuffle(x_test, y_test)\n",
        "\n",
        "        #ts = 6000\n",
        "        #x_val = x_train[-1200:, :, :].astype('float32')\n",
        "        #y_val = y_train[-1200:].astype('float32')\n",
        "        #x_train = x_train[:ts, :, :].astype('float32')\n",
        "        #y_train = y_train[:ts].astype('float32')\n",
        "        #x_test = x_test[:1200].astype('float32')\n",
        "        #y_test = y_test[:1200].astype('float32')\n",
        "\n",
        "        model = d2nn_model()\n",
        "\n",
        "        sess.run(tf.compat.v1.global_variables_initializer())\n",
        "        #variables_names = [v.name for v in tf.trainable_variables()]\n",
        "        #values = sess.run(variables_names)\n",
        "        #for k, v in zip(variables_names, values):\n",
        "        #    print( \"Variable: \", k)\n",
        "        #    print(\"Shape: \", v.shape)\n",
        "        #    print(v)\n",
        "\n",
        "        model.train(sess, x_train, y_train, x_val, y_val)\n",
        "        accuracy = model.evaluate(sess, x_test, y_test)\n",
        "        print('***** test accuracy: %.3f' % accuracy)\n",
        "        saver = tf.compat.v1.train.Saver()\n",
        "        model_path = saver.save(sess, \"d2nn_model_phase.ckpt\")\n",
        "        print(\"Model saved in %s\" % model_path)"
      ],
      "execution_count": null,
      "outputs": [
        {
          "output_type": "stream",
          "text": [
            "Device mapping:\n",
            "/job:localhost/replica:0/task:0/device:XLA_CPU:0 -> device: XLA_CPU device\n",
            "/job:localhost/replica:0/task:0/device:XLA_GPU:0 -> device: XLA_GPU device\n",
            "/job:localhost/replica:0/task:0/device:GPU:0 -> device: 0, name: Tesla P100-PCIE-16GB, pci bus id: 0000:00:04.0, compute capability: 6.0\n",
            "\n",
            "Loading Pickled Data...\n",
            "-----  Start training  -----\n",
            "train for epoch 0\n",
            "iteration (0): loss = 2.292, accuracy = 0.125, time = 0:00:02.984696\n",
            "iteration (100): loss = 2.267, accuracy = 0.500, time = 0:00:25.438650\n",
            "iteration (200): loss = 2.267, accuracy = 0.375, time = 0:00:49.121567\n",
            "iteration (300): loss = 2.187, accuracy = 0.750, time = 0:01:11.561403\n",
            "iteration (400): loss = 2.148, accuracy = 0.875, time = 0:01:34.405792\n",
            "iteration (500): loss = 2.136, accuracy = 0.875, time = 0:01:56.784809\n",
            "iteration (600): loss = 2.181, accuracy = 0.875, time = 0:02:19.134969\n",
            "iteration (700): loss = 2.137, accuracy = 0.750, time = 0:02:41.591680\n",
            "iteration (800): loss = 2.086, accuracy = 0.875, time = 0:03:03.946681\n",
            "iteration (900): loss = 2.127, accuracy = 0.750, time = 0:03:26.218684\n",
            "validation for epoch 0\n",
            "eval_shape =  250\n",
            "-  epoch 0: validation accuracy = 0.857\n",
            "train for epoch 1\n",
            "iteration (1000): loss = 2.078, accuracy = 1.000, time = 0:04:13.970623\n",
            "iteration (1100): loss = 2.119, accuracy = 0.750, time = 0:04:36.347012\n",
            "iteration (1200): loss = 2.056, accuracy = 1.000, time = 0:04:58.724267\n",
            "iteration (1300): loss = 2.038, accuracy = 1.000, time = 0:05:21.036284\n",
            "iteration (1400): loss = 2.064, accuracy = 0.875, time = 0:05:43.863796\n",
            "iteration (1500): loss = 2.134, accuracy = 0.750, time = 0:06:06.676012\n",
            "iteration (1600): loss = 2.111, accuracy = 0.750, time = 0:06:28.920963\n",
            "iteration (1700): loss = 2.117, accuracy = 0.750, time = 0:06:51.649294\n",
            "iteration (1800): loss = 2.113, accuracy = 0.750, time = 0:07:13.986112\n",
            "iteration (1900): loss = 2.077, accuracy = 0.875, time = 0:07:36.257561\n"
          ],
          "name": "stdout"
        },
        {
          "output_type": "stream",
          "text": [
            "/usr/local/lib/python3.6/dist-packages/ipykernel_launcher.py:180: MatplotlibDeprecationWarning: Adding an axes using the same arguments as a previous axes currently reuses the earlier instance.  In a future version, a new instance will always be created and returned.  Meanwhile, this warning can be suppressed, and the future behavior ensured, by passing a unique label to each axes instance.\n"
          ],
          "name": "stderr"
        },
        {
          "output_type": "stream",
          "text": [
            "validation for epoch 1\n",
            "eval_shape =  250\n",
            "-  epoch 1: validation accuracy = 0.876\n"
          ],
          "name": "stdout"
        },
        {
          "output_type": "stream",
          "text": [
            "/usr/local/lib/python3.6/dist-packages/ipykernel_launcher.py:208: MatplotlibDeprecationWarning: Adding an axes using the same arguments as a previous axes currently reuses the earlier instance.  In a future version, a new instance will always be created and returned.  Meanwhile, this warning can be suppressed, and the future behavior ensured, by passing a unique label to each axes instance.\n"
          ],
          "name": "stderr"
        },
        {
          "output_type": "stream",
          "text": [
            "train for epoch 2\n",
            "iteration (2000): loss = 2.072, accuracy = 1.000, time = 0:08:23.216756\n",
            "iteration (2100): loss = 2.061, accuracy = 0.875, time = 0:08:45.530981\n",
            "iteration (2200): loss = 2.068, accuracy = 1.000, time = 0:09:07.814598\n",
            "iteration (2300): loss = 2.018, accuracy = 0.875, time = 0:09:30.122765\n",
            "iteration (2400): loss = 2.023, accuracy = 1.000, time = 0:09:52.382612\n",
            "iteration (2500): loss = 2.049, accuracy = 0.750, time = 0:10:14.610685\n",
            "iteration (2600): loss = 2.078, accuracy = 0.750, time = 0:10:36.857926\n",
            "iteration (2700): loss = 2.069, accuracy = 1.000, time = 0:11:00.214912\n",
            "iteration (2800): loss = 2.045, accuracy = 0.875, time = 0:11:22.547811\n",
            "iteration (2900): loss = 2.101, accuracy = 0.875, time = 0:11:45.268405\n"
          ],
          "name": "stdout"
        },
        {
          "output_type": "stream",
          "text": [
            "/usr/local/lib/python3.6/dist-packages/ipykernel_launcher.py:180: MatplotlibDeprecationWarning: Adding an axes using the same arguments as a previous axes currently reuses the earlier instance.  In a future version, a new instance will always be created and returned.  Meanwhile, this warning can be suppressed, and the future behavior ensured, by passing a unique label to each axes instance.\n"
          ],
          "name": "stderr"
        },
        {
          "output_type": "stream",
          "text": [
            "validation for epoch 2\n",
            "eval_shape =  250\n",
            "-  epoch 2: validation accuracy = 0.858\n"
          ],
          "name": "stdout"
        },
        {
          "output_type": "stream",
          "text": [
            "/usr/local/lib/python3.6/dist-packages/ipykernel_launcher.py:208: MatplotlibDeprecationWarning: Adding an axes using the same arguments as a previous axes currently reuses the earlier instance.  In a future version, a new instance will always be created and returned.  Meanwhile, this warning can be suppressed, and the future behavior ensured, by passing a unique label to each axes instance.\n"
          ],
          "name": "stderr"
        },
        {
          "output_type": "stream",
          "text": [
            "train for epoch 3\n",
            "iteration (3000): loss = 2.064, accuracy = 0.750, time = 0:12:32.339010\n",
            "iteration (3100): loss = 2.035, accuracy = 0.875, time = 0:12:54.631535\n",
            "iteration (3200): loss = 2.046, accuracy = 1.000, time = 0:13:16.904581\n",
            "iteration (3300): loss = 2.037, accuracy = 0.875, time = 0:13:39.202255\n",
            "iteration (3400): loss = 2.071, accuracy = 0.750, time = 0:14:01.449782\n",
            "iteration (3500): loss = 2.075, accuracy = 0.875, time = 0:14:23.651178\n",
            "iteration (3600): loss = 2.091, accuracy = 0.750, time = 0:14:45.931887\n",
            "iteration (3700): loss = 2.034, accuracy = 1.000, time = 0:15:08.267957\n",
            "iteration (3800): loss = 2.042, accuracy = 0.875, time = 0:15:30.555825\n",
            "iteration (3900): loss = 2.006, accuracy = 0.875, time = 0:15:52.793774\n"
          ],
          "name": "stdout"
        },
        {
          "output_type": "stream",
          "text": [
            "/usr/local/lib/python3.6/dist-packages/ipykernel_launcher.py:180: MatplotlibDeprecationWarning: Adding an axes using the same arguments as a previous axes currently reuses the earlier instance.  In a future version, a new instance will always be created and returned.  Meanwhile, this warning can be suppressed, and the future behavior ensured, by passing a unique label to each axes instance.\n"
          ],
          "name": "stderr"
        },
        {
          "output_type": "stream",
          "text": [
            "validation for epoch 3\n",
            "eval_shape =  250\n",
            "-  epoch 3: validation accuracy = 0.864\n"
          ],
          "name": "stdout"
        },
        {
          "output_type": "stream",
          "text": [
            "/usr/local/lib/python3.6/dist-packages/ipykernel_launcher.py:208: MatplotlibDeprecationWarning: Adding an axes using the same arguments as a previous axes currently reuses the earlier instance.  In a future version, a new instance will always be created and returned.  Meanwhile, this warning can be suppressed, and the future behavior ensured, by passing a unique label to each axes instance.\n"
          ],
          "name": "stderr"
        },
        {
          "output_type": "stream",
          "text": [
            "train for epoch 4\n",
            "iteration (4000): loss = 2.052, accuracy = 0.875, time = 0:16:41.454611\n",
            "iteration (4100): loss = 2.031, accuracy = 0.750, time = 0:17:04.183312\n",
            "iteration (4200): loss = 2.081, accuracy = 0.625, time = 0:17:26.494261\n",
            "iteration (4300): loss = 2.071, accuracy = 0.750, time = 0:17:48.683996\n",
            "iteration (4400): loss = 2.095, accuracy = 0.750, time = 0:18:10.949750\n",
            "iteration (4500): loss = 2.139, accuracy = 0.500, time = 0:18:33.259910\n",
            "iteration (4600): loss = 2.001, accuracy = 0.875, time = 0:18:55.637352\n",
            "iteration (4700): loss = 2.037, accuracy = 0.875, time = 0:19:17.915458\n",
            "iteration (4800): loss = 2.043, accuracy = 0.875, time = 0:19:40.188420\n",
            "iteration (4900): loss = 1.961, accuracy = 1.000, time = 0:20:02.446397\n"
          ],
          "name": "stdout"
        },
        {
          "output_type": "stream",
          "text": [
            "/usr/local/lib/python3.6/dist-packages/ipykernel_launcher.py:180: MatplotlibDeprecationWarning: Adding an axes using the same arguments as a previous axes currently reuses the earlier instance.  In a future version, a new instance will always be created and returned.  Meanwhile, this warning can be suppressed, and the future behavior ensured, by passing a unique label to each axes instance.\n"
          ],
          "name": "stderr"
        },
        {
          "output_type": "stream",
          "text": [
            "validation for epoch 4\n",
            "eval_shape =  250\n",
            "-  epoch 4: validation accuracy = 0.874\n"
          ],
          "name": "stdout"
        },
        {
          "output_type": "stream",
          "text": [
            "/usr/local/lib/python3.6/dist-packages/ipykernel_launcher.py:208: MatplotlibDeprecationWarning: Adding an axes using the same arguments as a previous axes currently reuses the earlier instance.  In a future version, a new instance will always be created and returned.  Meanwhile, this warning can be suppressed, and the future behavior ensured, by passing a unique label to each axes instance.\n"
          ],
          "name": "stderr"
        },
        {
          "output_type": "stream",
          "text": [
            "train for epoch 5\n",
            "iteration (5000): loss = 1.996, accuracy = 0.875, time = 0:20:49.812066\n",
            "iteration (5100): loss = 2.037, accuracy = 0.875, time = 0:21:12.131646\n",
            "iteration (5200): loss = 2.014, accuracy = 0.875, time = 0:21:35.460038\n",
            "iteration (5300): loss = 2.058, accuracy = 0.750, time = 0:21:58.322330\n",
            "iteration (5400): loss = 1.986, accuracy = 1.000, time = 0:22:20.683285\n",
            "iteration (5500): loss = 1.983, accuracy = 0.875, time = 0:22:43.022629\n",
            "iteration (5600): loss = 2.019, accuracy = 1.000, time = 0:23:05.382663\n",
            "iteration (5700): loss = 2.035, accuracy = 0.875, time = 0:23:27.749793\n",
            "iteration (5800): loss = 2.030, accuracy = 0.875, time = 0:23:50.099536\n",
            "iteration (5900): loss = 1.953, accuracy = 1.000, time = 0:24:12.412438\n"
          ],
          "name": "stdout"
        },
        {
          "output_type": "stream",
          "text": [
            "/usr/local/lib/python3.6/dist-packages/ipykernel_launcher.py:180: MatplotlibDeprecationWarning: Adding an axes using the same arguments as a previous axes currently reuses the earlier instance.  In a future version, a new instance will always be created and returned.  Meanwhile, this warning can be suppressed, and the future behavior ensured, by passing a unique label to each axes instance.\n"
          ],
          "name": "stderr"
        },
        {
          "output_type": "stream",
          "text": [
            "validation for epoch 5\n",
            "eval_shape =  250\n",
            "-  epoch 5: validation accuracy = 0.899\n"
          ],
          "name": "stdout"
        },
        {
          "output_type": "stream",
          "text": [
            "/usr/local/lib/python3.6/dist-packages/ipykernel_launcher.py:200: MatplotlibDeprecationWarning: Adding an axes using the same arguments as a previous axes currently reuses the earlier instance.  In a future version, a new instance will always be created and returned.  Meanwhile, this warning can be suppressed, and the future behavior ensured, by passing a unique label to each axes instance.\n",
            "/usr/local/lib/python3.6/dist-packages/ipykernel_launcher.py:208: MatplotlibDeprecationWarning: Adding an axes using the same arguments as a previous axes currently reuses the earlier instance.  In a future version, a new instance will always be created and returned.  Meanwhile, this warning can be suppressed, and the future behavior ensured, by passing a unique label to each axes instance.\n"
          ],
          "name": "stderr"
        },
        {
          "output_type": "stream",
          "text": [
            "train for epoch 6\n",
            "iteration (6000): loss = 2.036, accuracy = 0.750, time = 0:25:00.560076\n",
            "iteration (6100): loss = 2.002, accuracy = 0.875, time = 0:25:22.883282\n",
            "iteration (6200): loss = 1.982, accuracy = 0.875, time = 0:25:45.220294\n",
            "iteration (6300): loss = 2.014, accuracy = 1.000, time = 0:26:07.560523\n",
            "iteration (6400): loss = 1.994, accuracy = 1.000, time = 0:26:30.743811\n",
            "iteration (6500): loss = 2.023, accuracy = 0.875, time = 0:26:53.249144\n",
            "iteration (6600): loss = 1.993, accuracy = 1.000, time = 0:27:16.095037\n",
            "iteration (6700): loss = 2.061, accuracy = 0.750, time = 0:27:38.487770\n",
            "iteration (6800): loss = 2.031, accuracy = 0.875, time = 0:28:00.900583\n",
            "iteration (6900): loss = 1.993, accuracy = 0.875, time = 0:28:23.258709\n"
          ],
          "name": "stdout"
        },
        {
          "output_type": "stream",
          "text": [
            "/usr/local/lib/python3.6/dist-packages/ipykernel_launcher.py:180: MatplotlibDeprecationWarning: Adding an axes using the same arguments as a previous axes currently reuses the earlier instance.  In a future version, a new instance will always be created and returned.  Meanwhile, this warning can be suppressed, and the future behavior ensured, by passing a unique label to each axes instance.\n"
          ],
          "name": "stderr"
        },
        {
          "output_type": "stream",
          "text": [
            "validation for epoch 6\n",
            "eval_shape =  250\n",
            "-  epoch 6: validation accuracy = 0.887\n"
          ],
          "name": "stdout"
        },
        {
          "output_type": "stream",
          "text": [
            "/usr/local/lib/python3.6/dist-packages/ipykernel_launcher.py:200: MatplotlibDeprecationWarning: Adding an axes using the same arguments as a previous axes currently reuses the earlier instance.  In a future version, a new instance will always be created and returned.  Meanwhile, this warning can be suppressed, and the future behavior ensured, by passing a unique label to each axes instance.\n",
            "/usr/local/lib/python3.6/dist-packages/ipykernel_launcher.py:208: MatplotlibDeprecationWarning: Adding an axes using the same arguments as a previous axes currently reuses the earlier instance.  In a future version, a new instance will always be created and returned.  Meanwhile, this warning can be suppressed, and the future behavior ensured, by passing a unique label to each axes instance.\n"
          ],
          "name": "stderr"
        },
        {
          "output_type": "stream",
          "text": [
            "train for epoch 7\n",
            "iteration (7000): loss = 1.984, accuracy = 1.000, time = 0:29:11.152563\n",
            "iteration (7100): loss = 2.000, accuracy = 0.875, time = 0:29:33.507066\n",
            "iteration (7200): loss = 2.033, accuracy = 0.875, time = 0:29:55.812814\n",
            "iteration (7300): loss = 2.004, accuracy = 1.000, time = 0:30:18.144496\n",
            "iteration (7400): loss = 1.974, accuracy = 0.875, time = 0:30:40.518767\n",
            "iteration (7500): loss = 1.990, accuracy = 0.875, time = 0:31:02.845419\n",
            "iteration (7600): loss = 1.930, accuracy = 1.000, time = 0:31:25.193983\n",
            "iteration (7700): loss = 2.003, accuracy = 1.000, time = 0:31:48.582259\n",
            "iteration (7800): loss = 2.039, accuracy = 0.625, time = 0:32:11.357232\n",
            "iteration (7900): loss = 1.972, accuracy = 1.000, time = 0:32:33.749314\n"
          ],
          "name": "stdout"
        },
        {
          "output_type": "stream",
          "text": [
            "/usr/local/lib/python3.6/dist-packages/ipykernel_launcher.py:180: MatplotlibDeprecationWarning: Adding an axes using the same arguments as a previous axes currently reuses the earlier instance.  In a future version, a new instance will always be created and returned.  Meanwhile, this warning can be suppressed, and the future behavior ensured, by passing a unique label to each axes instance.\n"
          ],
          "name": "stderr"
        },
        {
          "output_type": "stream",
          "text": [
            "validation for epoch 7\n",
            "eval_shape =  250\n",
            "-  epoch 7: validation accuracy = 0.889\n"
          ],
          "name": "stdout"
        },
        {
          "output_type": "stream",
          "text": [
            "/usr/local/lib/python3.6/dist-packages/ipykernel_launcher.py:200: MatplotlibDeprecationWarning: Adding an axes using the same arguments as a previous axes currently reuses the earlier instance.  In a future version, a new instance will always be created and returned.  Meanwhile, this warning can be suppressed, and the future behavior ensured, by passing a unique label to each axes instance.\n",
            "/usr/local/lib/python3.6/dist-packages/ipykernel_launcher.py:208: MatplotlibDeprecationWarning: Adding an axes using the same arguments as a previous axes currently reuses the earlier instance.  In a future version, a new instance will always be created and returned.  Meanwhile, this warning can be suppressed, and the future behavior ensured, by passing a unique label to each axes instance.\n"
          ],
          "name": "stderr"
        },
        {
          "output_type": "stream",
          "text": [
            "train for epoch 8\n",
            "iteration (8000): loss = 2.001, accuracy = 1.000, time = 0:33:21.779060\n",
            "iteration (8100): loss = 2.043, accuracy = 0.875, time = 0:33:44.147676\n",
            "iteration (8200): loss = 2.049, accuracy = 0.625, time = 0:34:06.481010\n",
            "iteration (8300): loss = 1.987, accuracy = 0.875, time = 0:34:28.746120\n",
            "iteration (8400): loss = 1.993, accuracy = 1.000, time = 0:34:51.096437\n",
            "iteration (8500): loss = 2.076, accuracy = 0.750, time = 0:35:13.474136\n",
            "iteration (8600): loss = 1.995, accuracy = 0.875, time = 0:35:35.817108\n",
            "iteration (8700): loss = 1.994, accuracy = 1.000, time = 0:35:58.169746\n",
            "iteration (8800): loss = 1.923, accuracy = 1.000, time = 0:36:20.492930\n",
            "iteration (8900): loss = 2.055, accuracy = 0.625, time = 0:36:42.805444\n"
          ],
          "name": "stdout"
        },
        {
          "output_type": "stream",
          "text": [
            "/usr/local/lib/python3.6/dist-packages/ipykernel_launcher.py:180: MatplotlibDeprecationWarning: Adding an axes using the same arguments as a previous axes currently reuses the earlier instance.  In a future version, a new instance will always be created and returned.  Meanwhile, this warning can be suppressed, and the future behavior ensured, by passing a unique label to each axes instance.\n"
          ],
          "name": "stderr"
        },
        {
          "output_type": "stream",
          "text": [
            "validation for epoch 8\n",
            "eval_shape =  250\n",
            "-  epoch 8: validation accuracy = 0.873\n"
          ],
          "name": "stdout"
        },
        {
          "output_type": "stream",
          "text": [
            "/usr/local/lib/python3.6/dist-packages/ipykernel_launcher.py:200: MatplotlibDeprecationWarning: Adding an axes using the same arguments as a previous axes currently reuses the earlier instance.  In a future version, a new instance will always be created and returned.  Meanwhile, this warning can be suppressed, and the future behavior ensured, by passing a unique label to each axes instance.\n",
            "/usr/local/lib/python3.6/dist-packages/ipykernel_launcher.py:208: MatplotlibDeprecationWarning: Adding an axes using the same arguments as a previous axes currently reuses the earlier instance.  In a future version, a new instance will always be created and returned.  Meanwhile, this warning can be suppressed, and the future behavior ensured, by passing a unique label to each axes instance.\n"
          ],
          "name": "stderr"
        },
        {
          "output_type": "stream",
          "text": [
            "train for epoch 9\n",
            "iteration (9000): loss = 2.041, accuracy = 0.875, time = 0:37:32.757601\n",
            "iteration (9100): loss = 2.005, accuracy = 0.875, time = 0:37:55.097391\n",
            "iteration (9200): loss = 1.993, accuracy = 1.000, time = 0:38:17.403314\n",
            "iteration (9300): loss = 2.109, accuracy = 0.625, time = 0:38:39.771451\n",
            "iteration (9400): loss = 1.966, accuracy = 1.000, time = 0:39:02.099709\n",
            "iteration (9500): loss = 1.953, accuracy = 1.000, time = 0:39:24.456608\n",
            "iteration (9600): loss = 2.023, accuracy = 0.875, time = 0:39:46.848999\n",
            "iteration (9700): loss = 1.971, accuracy = 1.000, time = 0:40:09.261781\n",
            "iteration (9800): loss = 1.942, accuracy = 1.000, time = 0:40:31.582249\n",
            "iteration (9900): loss = 2.051, accuracy = 0.875, time = 0:40:53.914014\n"
          ],
          "name": "stdout"
        },
        {
          "output_type": "stream",
          "text": [
            "/usr/local/lib/python3.6/dist-packages/ipykernel_launcher.py:180: MatplotlibDeprecationWarning: Adding an axes using the same arguments as a previous axes currently reuses the earlier instance.  In a future version, a new instance will always be created and returned.  Meanwhile, this warning can be suppressed, and the future behavior ensured, by passing a unique label to each axes instance.\n"
          ],
          "name": "stderr"
        },
        {
          "output_type": "stream",
          "text": [
            "validation for epoch 9\n",
            "eval_shape =  250\n",
            "-  epoch 9: validation accuracy = 0.862\n"
          ],
          "name": "stdout"
        },
        {
          "output_type": "stream",
          "text": [
            "/usr/local/lib/python3.6/dist-packages/ipykernel_launcher.py:200: MatplotlibDeprecationWarning: Adding an axes using the same arguments as a previous axes currently reuses the earlier instance.  In a future version, a new instance will always be created and returned.  Meanwhile, this warning can be suppressed, and the future behavior ensured, by passing a unique label to each axes instance.\n",
            "/usr/local/lib/python3.6/dist-packages/ipykernel_launcher.py:208: MatplotlibDeprecationWarning: Adding an axes using the same arguments as a previous axes currently reuses the earlier instance.  In a future version, a new instance will always be created and returned.  Meanwhile, this warning can be suppressed, and the future behavior ensured, by passing a unique label to each axes instance.\n"
          ],
          "name": "stderr"
        },
        {
          "output_type": "stream",
          "text": [
            "train for epoch 10\n",
            "iteration (10000): loss = 1.975, accuracy = 0.750, time = 0:41:42.453453\n",
            "iteration (10100): loss = 2.028, accuracy = 0.875, time = 0:42:05.967225\n",
            "iteration (10200): loss = 1.962, accuracy = 1.000, time = 0:42:28.868997\n",
            "iteration (10300): loss = 1.999, accuracy = 0.875, time = 0:42:51.257780\n",
            "iteration (10400): loss = 1.991, accuracy = 0.875, time = 0:43:13.675054\n",
            "iteration (10500): loss = 1.958, accuracy = 0.750, time = 0:43:36.005322\n",
            "iteration (10600): loss = 2.006, accuracy = 0.875, time = 0:43:58.355513\n",
            "iteration (10700): loss = 1.997, accuracy = 0.875, time = 0:44:20.712239\n",
            "iteration (10800): loss = 2.001, accuracy = 1.000, time = 0:44:43.109131\n",
            "iteration (10900): loss = 2.019, accuracy = 0.750, time = 0:45:05.530181\n"
          ],
          "name": "stdout"
        },
        {
          "output_type": "stream",
          "text": [
            "/usr/local/lib/python3.6/dist-packages/ipykernel_launcher.py:180: MatplotlibDeprecationWarning: Adding an axes using the same arguments as a previous axes currently reuses the earlier instance.  In a future version, a new instance will always be created and returned.  Meanwhile, this warning can be suppressed, and the future behavior ensured, by passing a unique label to each axes instance.\n"
          ],
          "name": "stderr"
        },
        {
          "output_type": "stream",
          "text": [
            "validation for epoch 10\n",
            "eval_shape =  250\n",
            "-  epoch 10: validation accuracy = 0.892\n"
          ],
          "name": "stdout"
        },
        {
          "output_type": "stream",
          "text": [
            "/usr/local/lib/python3.6/dist-packages/ipykernel_launcher.py:200: MatplotlibDeprecationWarning: Adding an axes using the same arguments as a previous axes currently reuses the earlier instance.  In a future version, a new instance will always be created and returned.  Meanwhile, this warning can be suppressed, and the future behavior ensured, by passing a unique label to each axes instance.\n",
            "/usr/local/lib/python3.6/dist-packages/ipykernel_launcher.py:208: MatplotlibDeprecationWarning: Adding an axes using the same arguments as a previous axes currently reuses the earlier instance.  In a future version, a new instance will always be created and returned.  Meanwhile, this warning can be suppressed, and the future behavior ensured, by passing a unique label to each axes instance.\n"
          ],
          "name": "stderr"
        },
        {
          "output_type": "stream",
          "text": [
            "train for epoch 11\n",
            "iteration (11000): loss = 1.982, accuracy = 0.875, time = 0:45:54.737749\n",
            "iteration (11100): loss = 1.964, accuracy = 0.750, time = 0:46:17.135990\n",
            "iteration (11200): loss = 2.043, accuracy = 0.875, time = 0:46:39.503433\n",
            "iteration (11300): loss = 1.897, accuracy = 1.000, time = 0:47:01.884309\n",
            "iteration (11400): loss = 1.991, accuracy = 0.750, time = 0:47:25.836304\n",
            "iteration (11500): loss = 1.993, accuracy = 0.875, time = 0:47:48.238218\n",
            "iteration (11600): loss = 1.927, accuracy = 0.875, time = 0:48:10.683921\n",
            "iteration (11700): loss = 2.027, accuracy = 0.750, time = 0:48:33.049003\n",
            "iteration (11800): loss = 1.963, accuracy = 1.000, time = 0:48:55.414052\n",
            "iteration (11900): loss = 2.026, accuracy = 0.875, time = 0:49:17.791041\n"
          ],
          "name": "stdout"
        },
        {
          "output_type": "stream",
          "text": [
            "/usr/local/lib/python3.6/dist-packages/ipykernel_launcher.py:180: MatplotlibDeprecationWarning: Adding an axes using the same arguments as a previous axes currently reuses the earlier instance.  In a future version, a new instance will always be created and returned.  Meanwhile, this warning can be suppressed, and the future behavior ensured, by passing a unique label to each axes instance.\n"
          ],
          "name": "stderr"
        },
        {
          "output_type": "stream",
          "text": [
            "validation for epoch 11\n",
            "eval_shape =  250\n",
            "-  epoch 11: validation accuracy = 0.887\n"
          ],
          "name": "stdout"
        },
        {
          "output_type": "stream",
          "text": [
            "/usr/local/lib/python3.6/dist-packages/ipykernel_launcher.py:200: MatplotlibDeprecationWarning: Adding an axes using the same arguments as a previous axes currently reuses the earlier instance.  In a future version, a new instance will always be created and returned.  Meanwhile, this warning can be suppressed, and the future behavior ensured, by passing a unique label to each axes instance.\n",
            "/usr/local/lib/python3.6/dist-packages/ipykernel_launcher.py:208: MatplotlibDeprecationWarning: Adding an axes using the same arguments as a previous axes currently reuses the earlier instance.  In a future version, a new instance will always be created and returned.  Meanwhile, this warning can be suppressed, and the future behavior ensured, by passing a unique label to each axes instance.\n"
          ],
          "name": "stderr"
        },
        {
          "output_type": "stream",
          "text": [
            "train for epoch 12\n",
            "iteration (12000): loss = 1.962, accuracy = 0.875, time = 0:50:06.823896\n",
            "iteration (12100): loss = 1.936, accuracy = 1.000, time = 0:50:29.166822\n",
            "iteration (12200): loss = 1.975, accuracy = 1.000, time = 0:50:51.529495\n",
            "iteration (12300): loss = 1.963, accuracy = 1.000, time = 0:51:13.889891\n",
            "iteration (12400): loss = 1.961, accuracy = 0.875, time = 0:51:36.220912\n",
            "iteration (12500): loss = 1.951, accuracy = 1.000, time = 0:51:58.558872\n",
            "iteration (12600): loss = 1.972, accuracy = 1.000, time = 0:52:21.349644\n",
            "iteration (12700): loss = 2.012, accuracy = 0.750, time = 0:52:44.533160\n",
            "iteration (12800): loss = 1.969, accuracy = 0.875, time = 0:53:06.840832\n",
            "iteration (12900): loss = 1.967, accuracy = 1.000, time = 0:53:29.177611\n"
          ],
          "name": "stdout"
        },
        {
          "output_type": "stream",
          "text": [
            "/usr/local/lib/python3.6/dist-packages/ipykernel_launcher.py:180: MatplotlibDeprecationWarning: Adding an axes using the same arguments as a previous axes currently reuses the earlier instance.  In a future version, a new instance will always be created and returned.  Meanwhile, this warning can be suppressed, and the future behavior ensured, by passing a unique label to each axes instance.\n"
          ],
          "name": "stderr"
        },
        {
          "output_type": "stream",
          "text": [
            "validation for epoch 12\n",
            "eval_shape =  250\n",
            "-  epoch 12: validation accuracy = 0.873\n"
          ],
          "name": "stdout"
        },
        {
          "output_type": "stream",
          "text": [
            "/usr/local/lib/python3.6/dist-packages/ipykernel_launcher.py:200: MatplotlibDeprecationWarning: Adding an axes using the same arguments as a previous axes currently reuses the earlier instance.  In a future version, a new instance will always be created and returned.  Meanwhile, this warning can be suppressed, and the future behavior ensured, by passing a unique label to each axes instance.\n",
            "/usr/local/lib/python3.6/dist-packages/ipykernel_launcher.py:208: MatplotlibDeprecationWarning: Adding an axes using the same arguments as a previous axes currently reuses the earlier instance.  In a future version, a new instance will always be created and returned.  Meanwhile, this warning can be suppressed, and the future behavior ensured, by passing a unique label to each axes instance.\n"
          ],
          "name": "stderr"
        },
        {
          "output_type": "stream",
          "text": [
            "train for epoch 13\n",
            "iteration (13000): loss = 1.930, accuracy = 1.000, time = 0:54:18.751366\n",
            "iteration (13100): loss = 1.931, accuracy = 1.000, time = 0:54:41.030420\n",
            "iteration (13200): loss = 2.039, accuracy = 0.750, time = 0:55:03.329951\n",
            "iteration (13300): loss = 1.945, accuracy = 0.750, time = 0:55:25.653067\n",
            "iteration (13400): loss = 1.966, accuracy = 0.875, time = 0:55:48.004715\n",
            "iteration (13500): loss = 1.911, accuracy = 1.000, time = 0:56:10.306897\n",
            "iteration (13600): loss = 1.984, accuracy = 0.875, time = 0:56:32.621835\n",
            "iteration (13700): loss = 1.997, accuracy = 0.875, time = 0:56:54.981086\n",
            "iteration (13800): loss = 1.905, accuracy = 1.000, time = 0:57:17.282856\n",
            "iteration (13900): loss = 1.970, accuracy = 1.000, time = 0:57:40.995360\n"
          ],
          "name": "stdout"
        },
        {
          "output_type": "stream",
          "text": [
            "/usr/local/lib/python3.6/dist-packages/ipykernel_launcher.py:180: MatplotlibDeprecationWarning: Adding an axes using the same arguments as a previous axes currently reuses the earlier instance.  In a future version, a new instance will always be created and returned.  Meanwhile, this warning can be suppressed, and the future behavior ensured, by passing a unique label to each axes instance.\n"
          ],
          "name": "stderr"
        },
        {
          "output_type": "stream",
          "text": [
            "validation for epoch 13\n",
            "eval_shape =  250\n",
            "-  epoch 13: validation accuracy = 0.891\n"
          ],
          "name": "stdout"
        },
        {
          "output_type": "stream",
          "text": [
            "/usr/local/lib/python3.6/dist-packages/ipykernel_launcher.py:200: MatplotlibDeprecationWarning: Adding an axes using the same arguments as a previous axes currently reuses the earlier instance.  In a future version, a new instance will always be created and returned.  Meanwhile, this warning can be suppressed, and the future behavior ensured, by passing a unique label to each axes instance.\n",
            "/usr/local/lib/python3.6/dist-packages/ipykernel_launcher.py:208: MatplotlibDeprecationWarning: Adding an axes using the same arguments as a previous axes currently reuses the earlier instance.  In a future version, a new instance will always be created and returned.  Meanwhile, this warning can be suppressed, and the future behavior ensured, by passing a unique label to each axes instance.\n"
          ],
          "name": "stderr"
        },
        {
          "output_type": "stream",
          "text": [
            "train for epoch 14\n",
            "iteration (14000): loss = 2.039, accuracy = 0.750, time = 0:58:30.602025\n",
            "iteration (14100): loss = 1.975, accuracy = 0.875, time = 0:58:52.915579\n",
            "iteration (14200): loss = 1.903, accuracy = 1.000, time = 0:59:15.257919\n",
            "iteration (14300): loss = 2.047, accuracy = 0.875, time = 0:59:37.548039\n",
            "iteration (14400): loss = 2.030, accuracy = 0.875, time = 0:59:59.815329\n",
            "iteration (14500): loss = 2.014, accuracy = 1.000, time = 1:00:22.086271\n",
            "iteration (14600): loss = 1.925, accuracy = 0.875, time = 1:00:44.407906\n",
            "iteration (14700): loss = 1.908, accuracy = 1.000, time = 1:01:06.762786\n",
            "iteration (14800): loss = 1.997, accuracy = 0.875, time = 1:01:29.064320\n",
            "iteration (14900): loss = 1.969, accuracy = 1.000, time = 1:01:51.363072\n"
          ],
          "name": "stdout"
        },
        {
          "output_type": "stream",
          "text": [
            "/usr/local/lib/python3.6/dist-packages/ipykernel_launcher.py:180: MatplotlibDeprecationWarning: Adding an axes using the same arguments as a previous axes currently reuses the earlier instance.  In a future version, a new instance will always be created and returned.  Meanwhile, this warning can be suppressed, and the future behavior ensured, by passing a unique label to each axes instance.\n"
          ],
          "name": "stderr"
        },
        {
          "output_type": "stream",
          "text": [
            "validation for epoch 14\n",
            "eval_shape =  250\n",
            "-  epoch 14: validation accuracy = 0.899\n"
          ],
          "name": "stdout"
        },
        {
          "output_type": "stream",
          "text": [
            "/usr/local/lib/python3.6/dist-packages/ipykernel_launcher.py:200: MatplotlibDeprecationWarning: Adding an axes using the same arguments as a previous axes currently reuses the earlier instance.  In a future version, a new instance will always be created and returned.  Meanwhile, this warning can be suppressed, and the future behavior ensured, by passing a unique label to each axes instance.\n",
            "/usr/local/lib/python3.6/dist-packages/ipykernel_launcher.py:208: MatplotlibDeprecationWarning: Adding an axes using the same arguments as a previous axes currently reuses the earlier instance.  In a future version, a new instance will always be created and returned.  Meanwhile, this warning can be suppressed, and the future behavior ensured, by passing a unique label to each axes instance.\n"
          ],
          "name": "stderr"
        },
        {
          "output_type": "stream",
          "text": [
            "train for epoch 15\n",
            "iteration (15000): loss = 1.949, accuracy = 1.000, time = 1:02:41.892443\n",
            "iteration (15100): loss = 1.919, accuracy = 0.875, time = 1:03:04.947555\n",
            "iteration (15200): loss = 2.059, accuracy = 0.750, time = 1:03:27.305812\n",
            "iteration (15300): loss = 1.952, accuracy = 1.000, time = 1:03:49.709517\n",
            "iteration (15400): loss = 2.004, accuracy = 0.750, time = 1:04:12.075653\n",
            "iteration (15500): loss = 1.951, accuracy = 0.875, time = 1:04:34.405548\n",
            "iteration (15600): loss = 1.989, accuracy = 0.750, time = 1:04:56.829589\n",
            "iteration (15700): loss = 1.916, accuracy = 1.000, time = 1:05:19.216379\n",
            "iteration (15800): loss = 1.954, accuracy = 0.875, time = 1:05:41.582571\n",
            "iteration (15900): loss = 1.979, accuracy = 1.000, time = 1:06:03.919004\n"
          ],
          "name": "stdout"
        },
        {
          "output_type": "stream",
          "text": [
            "/usr/local/lib/python3.6/dist-packages/ipykernel_launcher.py:180: MatplotlibDeprecationWarning: Adding an axes using the same arguments as a previous axes currently reuses the earlier instance.  In a future version, a new instance will always be created and returned.  Meanwhile, this warning can be suppressed, and the future behavior ensured, by passing a unique label to each axes instance.\n"
          ],
          "name": "stderr"
        },
        {
          "output_type": "stream",
          "text": [
            "validation for epoch 15\n",
            "eval_shape =  250\n",
            "-  epoch 15: validation accuracy = 0.893\n"
          ],
          "name": "stdout"
        },
        {
          "output_type": "stream",
          "text": [
            "/usr/local/lib/python3.6/dist-packages/ipykernel_launcher.py:200: MatplotlibDeprecationWarning: Adding an axes using the same arguments as a previous axes currently reuses the earlier instance.  In a future version, a new instance will always be created and returned.  Meanwhile, this warning can be suppressed, and the future behavior ensured, by passing a unique label to each axes instance.\n",
            "/usr/local/lib/python3.6/dist-packages/ipykernel_launcher.py:208: MatplotlibDeprecationWarning: Adding an axes using the same arguments as a previous axes currently reuses the earlier instance.  In a future version, a new instance will always be created and returned.  Meanwhile, this warning can be suppressed, and the future behavior ensured, by passing a unique label to each axes instance.\n"
          ],
          "name": "stderr"
        },
        {
          "output_type": "stream",
          "text": [
            "train for epoch 16\n",
            "iteration (16000): loss = 1.925, accuracy = 0.875, time = 1:06:54.415122\n",
            "iteration (16100): loss = 1.988, accuracy = 0.750, time = 1:07:16.777664\n",
            "iteration (16200): loss = 1.911, accuracy = 1.000, time = 1:07:39.178350\n",
            "iteration (16300): loss = 1.899, accuracy = 1.000, time = 1:08:03.057077\n",
            "iteration (16400): loss = 2.003, accuracy = 0.750, time = 1:08:25.408017\n",
            "iteration (16500): loss = 1.908, accuracy = 1.000, time = 1:08:47.766630\n",
            "iteration (16600): loss = 2.020, accuracy = 0.750, time = 1:09:10.100516\n",
            "iteration (16700): loss = 1.923, accuracy = 1.000, time = 1:09:32.439803\n",
            "iteration (16800): loss = 1.896, accuracy = 1.000, time = 1:09:54.794176\n",
            "iteration (16900): loss = 1.975, accuracy = 1.000, time = 1:10:17.075836\n"
          ],
          "name": "stdout"
        },
        {
          "output_type": "stream",
          "text": [
            "/usr/local/lib/python3.6/dist-packages/ipykernel_launcher.py:180: MatplotlibDeprecationWarning: Adding an axes using the same arguments as a previous axes currently reuses the earlier instance.  In a future version, a new instance will always be created and returned.  Meanwhile, this warning can be suppressed, and the future behavior ensured, by passing a unique label to each axes instance.\n"
          ],
          "name": "stderr"
        },
        {
          "output_type": "stream",
          "text": [
            "validation for epoch 16\n",
            "eval_shape =  250\n",
            "-  epoch 16: validation accuracy = 0.858\n"
          ],
          "name": "stdout"
        },
        {
          "output_type": "stream",
          "text": [
            "/usr/local/lib/python3.6/dist-packages/ipykernel_launcher.py:200: MatplotlibDeprecationWarning: Adding an axes using the same arguments as a previous axes currently reuses the earlier instance.  In a future version, a new instance will always be created and returned.  Meanwhile, this warning can be suppressed, and the future behavior ensured, by passing a unique label to each axes instance.\n",
            "/usr/local/lib/python3.6/dist-packages/ipykernel_launcher.py:208: MatplotlibDeprecationWarning: Adding an axes using the same arguments as a previous axes currently reuses the earlier instance.  In a future version, a new instance will always be created and returned.  Meanwhile, this warning can be suppressed, and the future behavior ensured, by passing a unique label to each axes instance.\n"
          ],
          "name": "stderr"
        },
        {
          "output_type": "stream",
          "text": [
            "train for epoch 17\n",
            "iteration (17000): loss = 1.980, accuracy = 0.750, time = 1:11:08.306940\n",
            "iteration (17100): loss = 1.957, accuracy = 1.000, time = 1:11:30.657445\n",
            "iteration (17200): loss = 1.964, accuracy = 0.875, time = 1:11:53.027330\n",
            "iteration (17300): loss = 1.929, accuracy = 1.000, time = 1:12:15.383150\n",
            "iteration (17400): loss = 1.951, accuracy = 0.750, time = 1:12:37.770577\n",
            "iteration (17500): loss = 1.928, accuracy = 0.875, time = 1:13:00.643358\n",
            "iteration (17600): loss = 1.911, accuracy = 1.000, time = 1:13:24.089644\n",
            "iteration (17700): loss = 1.970, accuracy = 1.000, time = 1:13:46.433794\n",
            "iteration (17800): loss = 1.945, accuracy = 0.875, time = 1:14:08.725260\n",
            "iteration (17900): loss = 1.938, accuracy = 1.000, time = 1:14:31.040704\n"
          ],
          "name": "stdout"
        },
        {
          "output_type": "stream",
          "text": [
            "/usr/local/lib/python3.6/dist-packages/ipykernel_launcher.py:180: MatplotlibDeprecationWarning: Adding an axes using the same arguments as a previous axes currently reuses the earlier instance.  In a future version, a new instance will always be created and returned.  Meanwhile, this warning can be suppressed, and the future behavior ensured, by passing a unique label to each axes instance.\n"
          ],
          "name": "stderr"
        },
        {
          "output_type": "stream",
          "text": [
            "validation for epoch 17\n",
            "eval_shape =  250\n",
            "-  epoch 17: validation accuracy = 0.882\n"
          ],
          "name": "stdout"
        },
        {
          "output_type": "stream",
          "text": [
            "/usr/local/lib/python3.6/dist-packages/ipykernel_launcher.py:200: MatplotlibDeprecationWarning: Adding an axes using the same arguments as a previous axes currently reuses the earlier instance.  In a future version, a new instance will always be created and returned.  Meanwhile, this warning can be suppressed, and the future behavior ensured, by passing a unique label to each axes instance.\n",
            "/usr/local/lib/python3.6/dist-packages/ipykernel_launcher.py:208: MatplotlibDeprecationWarning: Adding an axes using the same arguments as a previous axes currently reuses the earlier instance.  In a future version, a new instance will always be created and returned.  Meanwhile, this warning can be suppressed, and the future behavior ensured, by passing a unique label to each axes instance.\n"
          ],
          "name": "stderr"
        },
        {
          "output_type": "stream",
          "text": [
            "train for epoch 18\n",
            "iteration (18000): loss = 1.948, accuracy = 0.875, time = 1:15:22.387557\n",
            "iteration (18100): loss = 1.967, accuracy = 0.875, time = 1:15:44.744873\n",
            "iteration (18200): loss = 2.004, accuracy = 0.750, time = 1:16:07.106429\n",
            "iteration (18300): loss = 1.904, accuracy = 1.000, time = 1:16:29.460007\n",
            "iteration (18400): loss = 1.970, accuracy = 0.875, time = 1:16:51.834968\n",
            "iteration (18500): loss = 1.913, accuracy = 1.000, time = 1:17:14.196221\n",
            "iteration (18600): loss = 1.921, accuracy = 0.875, time = 1:17:36.533214\n",
            "iteration (18700): loss = 2.011, accuracy = 0.750, time = 1:17:59.300846\n",
            "iteration (18800): loss = 1.987, accuracy = 0.625, time = 1:18:22.686565\n",
            "iteration (18900): loss = 1.939, accuracy = 0.875, time = 1:18:44.969822\n"
          ],
          "name": "stdout"
        },
        {
          "output_type": "stream",
          "text": [
            "/usr/local/lib/python3.6/dist-packages/ipykernel_launcher.py:180: MatplotlibDeprecationWarning: Adding an axes using the same arguments as a previous axes currently reuses the earlier instance.  In a future version, a new instance will always be created and returned.  Meanwhile, this warning can be suppressed, and the future behavior ensured, by passing a unique label to each axes instance.\n"
          ],
          "name": "stderr"
        },
        {
          "output_type": "stream",
          "text": [
            "validation for epoch 18\n",
            "eval_shape =  250\n",
            "-  epoch 18: validation accuracy = 0.893\n"
          ],
          "name": "stdout"
        },
        {
          "output_type": "stream",
          "text": [
            "/usr/local/lib/python3.6/dist-packages/ipykernel_launcher.py:200: MatplotlibDeprecationWarning: Adding an axes using the same arguments as a previous axes currently reuses the earlier instance.  In a future version, a new instance will always be created and returned.  Meanwhile, this warning can be suppressed, and the future behavior ensured, by passing a unique label to each axes instance.\n",
            "/usr/local/lib/python3.6/dist-packages/ipykernel_launcher.py:208: MatplotlibDeprecationWarning: Adding an axes using the same arguments as a previous axes currently reuses the earlier instance.  In a future version, a new instance will always be created and returned.  Meanwhile, this warning can be suppressed, and the future behavior ensured, by passing a unique label to each axes instance.\n"
          ],
          "name": "stderr"
        },
        {
          "output_type": "stream",
          "text": [
            "train for epoch 19\n",
            "iteration (19000): loss = 1.907, accuracy = 1.000, time = 1:19:37.095233\n",
            "iteration (19100): loss = 1.949, accuracy = 0.875, time = 1:19:59.422566\n",
            "iteration (19200): loss = 1.947, accuracy = 0.875, time = 1:20:21.748597\n",
            "iteration (19300): loss = 1.992, accuracy = 0.750, time = 1:20:44.116269\n",
            "iteration (19400): loss = 1.946, accuracy = 0.875, time = 1:21:06.444413\n",
            "iteration (19500): loss = 1.966, accuracy = 1.000, time = 1:21:28.779264\n",
            "iteration (19600): loss = 1.910, accuracy = 1.000, time = 1:21:51.089670\n",
            "iteration (19700): loss = 1.921, accuracy = 0.875, time = 1:22:13.394134\n",
            "iteration (19800): loss = 1.947, accuracy = 1.000, time = 1:22:35.712834\n",
            "iteration (19900): loss = 1.918, accuracy = 0.875, time = 1:22:58.270747\n"
          ],
          "name": "stdout"
        },
        {
          "output_type": "stream",
          "text": [
            "/usr/local/lib/python3.6/dist-packages/ipykernel_launcher.py:180: MatplotlibDeprecationWarning: Adding an axes using the same arguments as a previous axes currently reuses the earlier instance.  In a future version, a new instance will always be created and returned.  Meanwhile, this warning can be suppressed, and the future behavior ensured, by passing a unique label to each axes instance.\n"
          ],
          "name": "stderr"
        },
        {
          "output_type": "stream",
          "text": [
            "validation for epoch 19\n",
            "eval_shape =  250\n",
            "-  epoch 19: validation accuracy = 0.894\n"
          ],
          "name": "stdout"
        },
        {
          "output_type": "stream",
          "text": [
            "/usr/local/lib/python3.6/dist-packages/ipykernel_launcher.py:200: MatplotlibDeprecationWarning: Adding an axes using the same arguments as a previous axes currently reuses the earlier instance.  In a future version, a new instance will always be created and returned.  Meanwhile, this warning can be suppressed, and the future behavior ensured, by passing a unique label to each axes instance.\n",
            "/usr/local/lib/python3.6/dist-packages/ipykernel_launcher.py:208: MatplotlibDeprecationWarning: Adding an axes using the same arguments as a previous axes currently reuses the earlier instance.  In a future version, a new instance will always be created and returned.  Meanwhile, this warning can be suppressed, and the future behavior ensured, by passing a unique label to each axes instance.\n"
          ],
          "name": "stderr"
        },
        {
          "output_type": "stream",
          "text": [
            "train for epoch 20\n",
            "iteration (20000): loss = 2.017, accuracy = 0.875, time = 1:23:52.249700\n",
            "iteration (20100): loss = 1.883, accuracy = 0.875, time = 1:24:14.571136\n",
            "iteration (20200): loss = 1.945, accuracy = 1.000, time = 1:24:36.894011\n",
            "iteration (20300): loss = 1.930, accuracy = 0.750, time = 1:24:59.227779\n",
            "iteration (20400): loss = 2.024, accuracy = 0.875, time = 1:25:21.550043\n",
            "iteration (20500): loss = 2.017, accuracy = 0.750, time = 1:25:43.851852\n",
            "iteration (20600): loss = 1.958, accuracy = 0.875, time = 1:26:06.221715\n",
            "iteration (20700): loss = 2.012, accuracy = 1.000, time = 1:26:28.627036\n",
            "iteration (20800): loss = 1.922, accuracy = 0.875, time = 1:26:51.065762\n",
            "iteration (20900): loss = 1.877, accuracy = 1.000, time = 1:27:13.461539\n"
          ],
          "name": "stdout"
        },
        {
          "output_type": "stream",
          "text": [
            "/usr/local/lib/python3.6/dist-packages/ipykernel_launcher.py:180: MatplotlibDeprecationWarning: Adding an axes using the same arguments as a previous axes currently reuses the earlier instance.  In a future version, a new instance will always be created and returned.  Meanwhile, this warning can be suppressed, and the future behavior ensured, by passing a unique label to each axes instance.\n"
          ],
          "name": "stderr"
        },
        {
          "output_type": "stream",
          "text": [
            "validation for epoch 20\n",
            "eval_shape =  250\n",
            "-  epoch 20: validation accuracy = 0.894\n"
          ],
          "name": "stdout"
        },
        {
          "output_type": "stream",
          "text": [
            "/usr/local/lib/python3.6/dist-packages/ipykernel_launcher.py:200: MatplotlibDeprecationWarning: Adding an axes using the same arguments as a previous axes currently reuses the earlier instance.  In a future version, a new instance will always be created and returned.  Meanwhile, this warning can be suppressed, and the future behavior ensured, by passing a unique label to each axes instance.\n",
            "/usr/local/lib/python3.6/dist-packages/ipykernel_launcher.py:208: MatplotlibDeprecationWarning: Adding an axes using the same arguments as a previous axes currently reuses the earlier instance.  In a future version, a new instance will always be created and returned.  Meanwhile, this warning can be suppressed, and the future behavior ensured, by passing a unique label to each axes instance.\n"
          ],
          "name": "stderr"
        },
        {
          "output_type": "stream",
          "text": [
            "train for epoch 21\n",
            "iteration (21000): loss = 1.967, accuracy = 0.750, time = 1:28:06.611573\n",
            "iteration (21100): loss = 1.934, accuracy = 0.875, time = 1:28:29.010707\n",
            "iteration (21200): loss = 1.986, accuracy = 0.875, time = 1:28:52.492262\n",
            "iteration (21300): loss = 2.001, accuracy = 0.875, time = 1:29:14.810083\n",
            "iteration (21400): loss = 1.933, accuracy = 0.875, time = 1:29:37.204463\n",
            "iteration (21500): loss = 2.041, accuracy = 0.750, time = 1:29:59.566228\n",
            "iteration (21600): loss = 1.964, accuracy = 0.875, time = 1:30:21.932746\n",
            "iteration (21700): loss = 1.937, accuracy = 0.750, time = 1:30:44.270046\n",
            "iteration (21800): loss = 1.974, accuracy = 0.750, time = 1:31:06.643974\n",
            "iteration (21900): loss = 1.945, accuracy = 1.000, time = 1:31:28.985749\n"
          ],
          "name": "stdout"
        },
        {
          "output_type": "stream",
          "text": [
            "/usr/local/lib/python3.6/dist-packages/ipykernel_launcher.py:180: MatplotlibDeprecationWarning: Adding an axes using the same arguments as a previous axes currently reuses the earlier instance.  In a future version, a new instance will always be created and returned.  Meanwhile, this warning can be suppressed, and the future behavior ensured, by passing a unique label to each axes instance.\n"
          ],
          "name": "stderr"
        },
        {
          "output_type": "stream",
          "text": [
            "validation for epoch 21\n",
            "eval_shape =  250\n",
            "-  epoch 21: validation accuracy = 0.878\n"
          ],
          "name": "stdout"
        },
        {
          "output_type": "stream",
          "text": [
            "/usr/local/lib/python3.6/dist-packages/ipykernel_launcher.py:200: MatplotlibDeprecationWarning: Adding an axes using the same arguments as a previous axes currently reuses the earlier instance.  In a future version, a new instance will always be created and returned.  Meanwhile, this warning can be suppressed, and the future behavior ensured, by passing a unique label to each axes instance.\n",
            "/usr/local/lib/python3.6/dist-packages/ipykernel_launcher.py:208: MatplotlibDeprecationWarning: Adding an axes using the same arguments as a previous axes currently reuses the earlier instance.  In a future version, a new instance will always be created and returned.  Meanwhile, this warning can be suppressed, and the future behavior ensured, by passing a unique label to each axes instance.\n"
          ],
          "name": "stderr"
        },
        {
          "output_type": "stream",
          "text": [
            "train for epoch 22\n",
            "iteration (22000): loss = 1.927, accuracy = 1.000, time = 1:32:22.948906\n",
            "iteration (22100): loss = 1.923, accuracy = 1.000, time = 1:32:45.298272\n",
            "iteration (22200): loss = 1.989, accuracy = 1.000, time = 1:33:07.754076\n",
            "iteration (22300): loss = 1.914, accuracy = 0.875, time = 1:33:30.483670\n",
            "iteration (22400): loss = 1.955, accuracy = 0.750, time = 1:33:53.906368\n",
            "iteration (22500): loss = 2.027, accuracy = 0.875, time = 1:34:16.248703\n",
            "iteration (22600): loss = 1.987, accuracy = 0.750, time = 1:34:38.617043\n",
            "iteration (22700): loss = 1.991, accuracy = 0.750, time = 1:35:00.989923\n",
            "iteration (22800): loss = 1.964, accuracy = 0.750, time = 1:35:23.396054\n",
            "iteration (22900): loss = 1.863, accuracy = 1.000, time = 1:35:45.842988\n"
          ],
          "name": "stdout"
        },
        {
          "output_type": "stream",
          "text": [
            "/usr/local/lib/python3.6/dist-packages/ipykernel_launcher.py:180: MatplotlibDeprecationWarning: Adding an axes using the same arguments as a previous axes currently reuses the earlier instance.  In a future version, a new instance will always be created and returned.  Meanwhile, this warning can be suppressed, and the future behavior ensured, by passing a unique label to each axes instance.\n"
          ],
          "name": "stderr"
        },
        {
          "output_type": "stream",
          "text": [
            "validation for epoch 22\n",
            "eval_shape =  250\n",
            "-  epoch 22: validation accuracy = 0.889\n"
          ],
          "name": "stdout"
        },
        {
          "output_type": "stream",
          "text": [
            "/usr/local/lib/python3.6/dist-packages/ipykernel_launcher.py:200: MatplotlibDeprecationWarning: Adding an axes using the same arguments as a previous axes currently reuses the earlier instance.  In a future version, a new instance will always be created and returned.  Meanwhile, this warning can be suppressed, and the future behavior ensured, by passing a unique label to each axes instance.\n",
            "/usr/local/lib/python3.6/dist-packages/ipykernel_launcher.py:208: MatplotlibDeprecationWarning: Adding an axes using the same arguments as a previous axes currently reuses the earlier instance.  In a future version, a new instance will always be created and returned.  Meanwhile, this warning can be suppressed, and the future behavior ensured, by passing a unique label to each axes instance.\n"
          ],
          "name": "stderr"
        },
        {
          "output_type": "stream",
          "text": [
            "train for epoch 23\n",
            "iteration (23000): loss = 2.016, accuracy = 0.750, time = 1:36:40.113355\n",
            "iteration (23100): loss = 1.904, accuracy = 0.875, time = 1:37:02.563414\n",
            "iteration (23200): loss = 1.918, accuracy = 1.000, time = 1:37:24.970478\n",
            "iteration (23300): loss = 1.939, accuracy = 0.875, time = 1:37:47.308424\n",
            "iteration (23400): loss = 1.948, accuracy = 0.750, time = 1:38:09.673419\n",
            "iteration (23500): loss = 1.882, accuracy = 0.875, time = 1:38:32.468097\n",
            "iteration (23600): loss = 1.907, accuracy = 1.000, time = 1:38:54.969165\n",
            "iteration (23700): loss = 1.886, accuracy = 1.000, time = 1:39:18.433061\n",
            "iteration (23800): loss = 2.005, accuracy = 1.000, time = 1:39:40.784256\n",
            "iteration (23900): loss = 1.949, accuracy = 0.875, time = 1:40:03.166616\n"
          ],
          "name": "stdout"
        },
        {
          "output_type": "stream",
          "text": [
            "/usr/local/lib/python3.6/dist-packages/ipykernel_launcher.py:180: MatplotlibDeprecationWarning: Adding an axes using the same arguments as a previous axes currently reuses the earlier instance.  In a future version, a new instance will always be created and returned.  Meanwhile, this warning can be suppressed, and the future behavior ensured, by passing a unique label to each axes instance.\n"
          ],
          "name": "stderr"
        },
        {
          "output_type": "stream",
          "text": [
            "validation for epoch 23\n",
            "eval_shape =  250\n",
            "-  epoch 23: validation accuracy = 0.875\n"
          ],
          "name": "stdout"
        },
        {
          "output_type": "stream",
          "text": [
            "/usr/local/lib/python3.6/dist-packages/ipykernel_launcher.py:200: MatplotlibDeprecationWarning: Adding an axes using the same arguments as a previous axes currently reuses the earlier instance.  In a future version, a new instance will always be created and returned.  Meanwhile, this warning can be suppressed, and the future behavior ensured, by passing a unique label to each axes instance.\n",
            "/usr/local/lib/python3.6/dist-packages/ipykernel_launcher.py:208: MatplotlibDeprecationWarning: Adding an axes using the same arguments as a previous axes currently reuses the earlier instance.  In a future version, a new instance will always be created and returned.  Meanwhile, this warning can be suppressed, and the future behavior ensured, by passing a unique label to each axes instance.\n"
          ],
          "name": "stderr"
        },
        {
          "output_type": "stream",
          "text": [
            "train for epoch 24\n",
            "iteration (24000): loss = 1.964, accuracy = 0.625, time = 1:40:58.374096\n",
            "iteration (24100): loss = 2.014, accuracy = 0.625, time = 1:41:20.794499\n",
            "iteration (24200): loss = 1.945, accuracy = 0.875, time = 1:41:43.197243\n",
            "iteration (24300): loss = 2.027, accuracy = 0.750, time = 1:42:05.561585\n",
            "iteration (24400): loss = 1.932, accuracy = 0.875, time = 1:42:27.884817\n",
            "iteration (24500): loss = 1.892, accuracy = 1.000, time = 1:42:50.279189\n",
            "iteration (24600): loss = 1.960, accuracy = 1.000, time = 1:43:12.652557\n",
            "iteration (24700): loss = 1.876, accuracy = 1.000, time = 1:43:35.402026\n",
            "iteration (24800): loss = 1.935, accuracy = 1.000, time = 1:43:57.737742\n",
            "iteration (24900): loss = 1.951, accuracy = 1.000, time = 1:44:21.168425\n"
          ],
          "name": "stdout"
        },
        {
          "output_type": "stream",
          "text": [
            "/usr/local/lib/python3.6/dist-packages/ipykernel_launcher.py:180: MatplotlibDeprecationWarning: Adding an axes using the same arguments as a previous axes currently reuses the earlier instance.  In a future version, a new instance will always be created and returned.  Meanwhile, this warning can be suppressed, and the future behavior ensured, by passing a unique label to each axes instance.\n"
          ],
          "name": "stderr"
        },
        {
          "output_type": "stream",
          "text": [
            "validation for epoch 24\n",
            "eval_shape =  250\n",
            "-  epoch 24: validation accuracy = 0.892\n"
          ],
          "name": "stdout"
        },
        {
          "output_type": "stream",
          "text": [
            "/usr/local/lib/python3.6/dist-packages/ipykernel_launcher.py:200: MatplotlibDeprecationWarning: Adding an axes using the same arguments as a previous axes currently reuses the earlier instance.  In a future version, a new instance will always be created and returned.  Meanwhile, this warning can be suppressed, and the future behavior ensured, by passing a unique label to each axes instance.\n",
            "/usr/local/lib/python3.6/dist-packages/ipykernel_launcher.py:208: MatplotlibDeprecationWarning: Adding an axes using the same arguments as a previous axes currently reuses the earlier instance.  In a future version, a new instance will always be created and returned.  Meanwhile, this warning can be suppressed, and the future behavior ensured, by passing a unique label to each axes instance.\n"
          ],
          "name": "stderr"
        },
        {
          "output_type": "stream",
          "text": [
            "train for epoch 25\n",
            "iteration (25000): loss = 1.890, accuracy = 0.875, time = 1:45:16.506293\n",
            "iteration (25100): loss = 2.008, accuracy = 0.750, time = 1:45:38.904232\n",
            "iteration (25200): loss = 1.968, accuracy = 1.000, time = 1:46:01.256652\n",
            "iteration (25300): loss = 1.962, accuracy = 0.875, time = 1:46:23.622410\n",
            "iteration (25400): loss = 1.948, accuracy = 0.875, time = 1:46:46.024229\n",
            "iteration (25500): loss = 1.927, accuracy = 1.000, time = 1:47:08.399179\n",
            "iteration (25600): loss = 1.925, accuracy = 1.000, time = 1:47:30.779632\n",
            "iteration (25700): loss = 1.929, accuracy = 1.000, time = 1:47:53.143936\n",
            "iteration (25800): loss = 1.983, accuracy = 0.750, time = 1:48:15.543526\n",
            "iteration (25900): loss = 1.953, accuracy = 0.750, time = 1:48:38.403057\n"
          ],
          "name": "stdout"
        },
        {
          "output_type": "stream",
          "text": [
            "/usr/local/lib/python3.6/dist-packages/ipykernel_launcher.py:180: MatplotlibDeprecationWarning: Adding an axes using the same arguments as a previous axes currently reuses the earlier instance.  In a future version, a new instance will always be created and returned.  Meanwhile, this warning can be suppressed, and the future behavior ensured, by passing a unique label to each axes instance.\n"
          ],
          "name": "stderr"
        },
        {
          "output_type": "stream",
          "text": [
            "validation for epoch 25\n",
            "eval_shape =  250\n",
            "-  epoch 25: validation accuracy = 0.883\n"
          ],
          "name": "stdout"
        },
        {
          "output_type": "stream",
          "text": [
            "/usr/local/lib/python3.6/dist-packages/ipykernel_launcher.py:200: MatplotlibDeprecationWarning: Adding an axes using the same arguments as a previous axes currently reuses the earlier instance.  In a future version, a new instance will always be created and returned.  Meanwhile, this warning can be suppressed, and the future behavior ensured, by passing a unique label to each axes instance.\n",
            "/usr/local/lib/python3.6/dist-packages/ipykernel_launcher.py:208: MatplotlibDeprecationWarning: Adding an axes using the same arguments as a previous axes currently reuses the earlier instance.  In a future version, a new instance will always be created and returned.  Meanwhile, this warning can be suppressed, and the future behavior ensured, by passing a unique label to each axes instance.\n"
          ],
          "name": "stderr"
        },
        {
          "output_type": "stream",
          "text": [
            "train for epoch 26\n",
            "iteration (26000): loss = 1.958, accuracy = 1.000, time = 1:49:36.068614\n",
            "iteration (26100): loss = 1.910, accuracy = 0.750, time = 1:49:58.429317\n",
            "iteration (26200): loss = 1.866, accuracy = 1.000, time = 1:50:20.785946\n",
            "iteration (26300): loss = 1.923, accuracy = 1.000, time = 1:50:43.161861\n",
            "iteration (26400): loss = 1.975, accuracy = 0.875, time = 1:51:05.571890\n",
            "iteration (26500): loss = 1.885, accuracy = 1.000, time = 1:51:27.956007\n",
            "iteration (26600): loss = 1.932, accuracy = 1.000, time = 1:51:50.276829\n",
            "iteration (26700): loss = 1.927, accuracy = 1.000, time = 1:52:12.623410\n",
            "iteration (26800): loss = 2.011, accuracy = 0.750, time = 1:52:34.941871\n",
            "iteration (26900): loss = 1.954, accuracy = 0.875, time = 1:52:57.233477\n"
          ],
          "name": "stdout"
        },
        {
          "output_type": "stream",
          "text": [
            "/usr/local/lib/python3.6/dist-packages/ipykernel_launcher.py:180: MatplotlibDeprecationWarning: Adding an axes using the same arguments as a previous axes currently reuses the earlier instance.  In a future version, a new instance will always be created and returned.  Meanwhile, this warning can be suppressed, and the future behavior ensured, by passing a unique label to each axes instance.\n"
          ],
          "name": "stderr"
        },
        {
          "output_type": "stream",
          "text": [
            "validation for epoch 26\n",
            "eval_shape =  250\n",
            "-  epoch 26: validation accuracy = 0.878\n"
          ],
          "name": "stdout"
        },
        {
          "output_type": "stream",
          "text": [
            "/usr/local/lib/python3.6/dist-packages/ipykernel_launcher.py:200: MatplotlibDeprecationWarning: Adding an axes using the same arguments as a previous axes currently reuses the earlier instance.  In a future version, a new instance will always be created and returned.  Meanwhile, this warning can be suppressed, and the future behavior ensured, by passing a unique label to each axes instance.\n",
            "/usr/local/lib/python3.6/dist-packages/ipykernel_launcher.py:208: MatplotlibDeprecationWarning: Adding an axes using the same arguments as a previous axes currently reuses the earlier instance.  In a future version, a new instance will always be created and returned.  Meanwhile, this warning can be suppressed, and the future behavior ensured, by passing a unique label to each axes instance.\n"
          ],
          "name": "stderr"
        },
        {
          "output_type": "stream",
          "text": [
            "train for epoch 27\n",
            "iteration (27000): loss = 1.959, accuracy = 0.875, time = 1:53:54.418371\n",
            "iteration (27100): loss = 1.931, accuracy = 1.000, time = 1:54:16.696449\n",
            "iteration (27200): loss = 1.970, accuracy = 0.875, time = 1:54:40.076699\n",
            "iteration (27300): loss = 1.895, accuracy = 1.000, time = 1:55:02.401324\n",
            "iteration (27400): loss = 1.915, accuracy = 0.875, time = 1:55:24.745611\n",
            "iteration (27500): loss = 1.965, accuracy = 0.875, time = 1:55:47.062422\n",
            "iteration (27600): loss = 1.929, accuracy = 0.875, time = 1:56:09.396245\n",
            "iteration (27700): loss = 1.863, accuracy = 1.000, time = 1:56:31.684844\n",
            "iteration (27800): loss = 2.006, accuracy = 0.875, time = 1:56:53.992124\n",
            "iteration (27900): loss = 2.040, accuracy = 0.625, time = 1:57:16.246860\n"
          ],
          "name": "stdout"
        },
        {
          "output_type": "stream",
          "text": [
            "/usr/local/lib/python3.6/dist-packages/ipykernel_launcher.py:180: MatplotlibDeprecationWarning: Adding an axes using the same arguments as a previous axes currently reuses the earlier instance.  In a future version, a new instance will always be created and returned.  Meanwhile, this warning can be suppressed, and the future behavior ensured, by passing a unique label to each axes instance.\n"
          ],
          "name": "stderr"
        },
        {
          "output_type": "stream",
          "text": [
            "validation for epoch 27\n",
            "eval_shape =  250\n",
            "-  epoch 27: validation accuracy = 0.881\n"
          ],
          "name": "stdout"
        },
        {
          "output_type": "stream",
          "text": [
            "/usr/local/lib/python3.6/dist-packages/ipykernel_launcher.py:200: MatplotlibDeprecationWarning: Adding an axes using the same arguments as a previous axes currently reuses the earlier instance.  In a future version, a new instance will always be created and returned.  Meanwhile, this warning can be suppressed, and the future behavior ensured, by passing a unique label to each axes instance.\n",
            "/usr/local/lib/python3.6/dist-packages/ipykernel_launcher.py:208: MatplotlibDeprecationWarning: Adding an axes using the same arguments as a previous axes currently reuses the earlier instance.  In a future version, a new instance will always be created and returned.  Meanwhile, this warning can be suppressed, and the future behavior ensured, by passing a unique label to each axes instance.\n"
          ],
          "name": "stderr"
        },
        {
          "output_type": "stream",
          "text": [
            "train for epoch 28\n",
            "iteration (28000): loss = 1.898, accuracy = 1.000, time = 1:58:13.763184\n",
            "iteration (28100): loss = 1.947, accuracy = 0.875, time = 1:58:36.189894\n",
            "iteration (28200): loss = 2.001, accuracy = 0.875, time = 1:58:58.800069\n",
            "iteration (28300): loss = 1.943, accuracy = 0.875, time = 1:59:21.130600\n",
            "iteration (28400): loss = 1.865, accuracy = 1.000, time = 1:59:44.074435\n",
            "iteration (28500): loss = 1.921, accuracy = 1.000, time = 2:00:06.801512\n",
            "iteration (28600): loss = 1.934, accuracy = 1.000, time = 2:00:29.221068\n",
            "iteration (28700): loss = 1.906, accuracy = 1.000, time = 2:00:51.539459\n",
            "iteration (28800): loss = 1.864, accuracy = 0.875, time = 2:01:13.869583\n",
            "iteration (28900): loss = 1.871, accuracy = 1.000, time = 2:01:36.244852\n"
          ],
          "name": "stdout"
        },
        {
          "output_type": "stream",
          "text": [
            "/usr/local/lib/python3.6/dist-packages/ipykernel_launcher.py:180: MatplotlibDeprecationWarning: Adding an axes using the same arguments as a previous axes currently reuses the earlier instance.  In a future version, a new instance will always be created and returned.  Meanwhile, this warning can be suppressed, and the future behavior ensured, by passing a unique label to each axes instance.\n"
          ],
          "name": "stderr"
        },
        {
          "output_type": "stream",
          "text": [
            "validation for epoch 28\n",
            "eval_shape =  250\n",
            "-  epoch 28: validation accuracy = 0.900\n"
          ],
          "name": "stdout"
        },
        {
          "output_type": "stream",
          "text": [
            "/usr/local/lib/python3.6/dist-packages/ipykernel_launcher.py:200: MatplotlibDeprecationWarning: Adding an axes using the same arguments as a previous axes currently reuses the earlier instance.  In a future version, a new instance will always be created and returned.  Meanwhile, this warning can be suppressed, and the future behavior ensured, by passing a unique label to each axes instance.\n",
            "/usr/local/lib/python3.6/dist-packages/ipykernel_launcher.py:208: MatplotlibDeprecationWarning: Adding an axes using the same arguments as a previous axes currently reuses the earlier instance.  In a future version, a new instance will always be created and returned.  Meanwhile, this warning can be suppressed, and the future behavior ensured, by passing a unique label to each axes instance.\n"
          ],
          "name": "stderr"
        },
        {
          "output_type": "stream",
          "text": [
            "train for epoch 29\n",
            "iteration (29000): loss = 1.894, accuracy = 1.000, time = 2:02:34.287872\n",
            "iteration (29100): loss = 1.996, accuracy = 0.875, time = 2:02:56.664343\n",
            "iteration (29200): loss = 1.931, accuracy = 0.875, time = 2:03:18.958860\n",
            "iteration (29300): loss = 1.877, accuracy = 0.875, time = 2:03:41.426403\n",
            "iteration (29400): loss = 1.992, accuracy = 0.750, time = 2:04:04.186903\n",
            "iteration (29500): loss = 1.883, accuracy = 0.875, time = 2:04:26.523468\n",
            "iteration (29600): loss = 2.008, accuracy = 0.875, time = 2:04:48.855346\n",
            "iteration (29700): loss = 1.844, accuracy = 1.000, time = 2:05:12.241232\n",
            "iteration (29800): loss = 1.923, accuracy = 1.000, time = 2:05:34.617116\n",
            "iteration (29900): loss = 1.923, accuracy = 0.875, time = 2:05:56.879408\n"
          ],
          "name": "stdout"
        },
        {
          "output_type": "stream",
          "text": [
            "/usr/local/lib/python3.6/dist-packages/ipykernel_launcher.py:180: MatplotlibDeprecationWarning: Adding an axes using the same arguments as a previous axes currently reuses the earlier instance.  In a future version, a new instance will always be created and returned.  Meanwhile, this warning can be suppressed, and the future behavior ensured, by passing a unique label to each axes instance.\n"
          ],
          "name": "stderr"
        },
        {
          "output_type": "stream",
          "text": [
            "validation for epoch 29\n",
            "eval_shape =  250\n",
            "-  epoch 29: validation accuracy = 0.893\n"
          ],
          "name": "stdout"
        },
        {
          "output_type": "stream",
          "text": [
            "/usr/local/lib/python3.6/dist-packages/ipykernel_launcher.py:200: MatplotlibDeprecationWarning: Adding an axes using the same arguments as a previous axes currently reuses the earlier instance.  In a future version, a new instance will always be created and returned.  Meanwhile, this warning can be suppressed, and the future behavior ensured, by passing a unique label to each axes instance.\n",
            "/usr/local/lib/python3.6/dist-packages/ipykernel_launcher.py:208: MatplotlibDeprecationWarning: Adding an axes using the same arguments as a previous axes currently reuses the earlier instance.  In a future version, a new instance will always be created and returned.  Meanwhile, this warning can be suppressed, and the future behavior ensured, by passing a unique label to each axes instance.\n"
          ],
          "name": "stderr"
        },
        {
          "output_type": "stream",
          "text": [
            "train for epoch 30\n",
            "iteration (30000): loss = 1.883, accuracy = 1.000, time = 2:06:56.363768\n",
            "iteration (30100): loss = 1.977, accuracy = 0.875, time = 2:07:18.712793\n",
            "iteration (30200): loss = 1.877, accuracy = 1.000, time = 2:07:41.065776\n",
            "iteration (30300): loss = 1.921, accuracy = 1.000, time = 2:08:03.424626\n",
            "iteration (30400): loss = 1.942, accuracy = 0.875, time = 2:08:25.760444\n",
            "iteration (30500): loss = 1.947, accuracy = 0.875, time = 2:08:48.262837\n",
            "iteration (30600): loss = 2.016, accuracy = 0.875, time = 2:09:10.883263\n",
            "iteration (30700): loss = 1.967, accuracy = 0.875, time = 2:09:33.215244\n",
            "iteration (30800): loss = 1.974, accuracy = 0.750, time = 2:09:55.619703\n",
            "iteration (30900): loss = 1.962, accuracy = 0.875, time = 2:10:19.004362\n"
          ],
          "name": "stdout"
        },
        {
          "output_type": "stream",
          "text": [
            "/usr/local/lib/python3.6/dist-packages/ipykernel_launcher.py:180: MatplotlibDeprecationWarning: Adding an axes using the same arguments as a previous axes currently reuses the earlier instance.  In a future version, a new instance will always be created and returned.  Meanwhile, this warning can be suppressed, and the future behavior ensured, by passing a unique label to each axes instance.\n"
          ],
          "name": "stderr"
        },
        {
          "output_type": "stream",
          "text": [
            "validation for epoch 30\n",
            "eval_shape =  250\n",
            "-  epoch 30: validation accuracy = 0.887\n"
          ],
          "name": "stdout"
        },
        {
          "output_type": "stream",
          "text": [
            "/usr/local/lib/python3.6/dist-packages/ipykernel_launcher.py:200: MatplotlibDeprecationWarning: Adding an axes using the same arguments as a previous axes currently reuses the earlier instance.  In a future version, a new instance will always be created and returned.  Meanwhile, this warning can be suppressed, and the future behavior ensured, by passing a unique label to each axes instance.\n",
            "/usr/local/lib/python3.6/dist-packages/ipykernel_launcher.py:208: MatplotlibDeprecationWarning: Adding an axes using the same arguments as a previous axes currently reuses the earlier instance.  In a future version, a new instance will always be created and returned.  Meanwhile, this warning can be suppressed, and the future behavior ensured, by passing a unique label to each axes instance.\n"
          ],
          "name": "stderr"
        },
        {
          "output_type": "stream",
          "text": [
            "train for epoch 31\n",
            "iteration (31000): loss = 1.879, accuracy = 0.875, time = 2:11:18.915220\n",
            "iteration (31100): loss = 1.922, accuracy = 1.000, time = 2:11:41.236378\n",
            "iteration (31200): loss = 1.944, accuracy = 0.750, time = 2:12:03.600093\n",
            "iteration (31300): loss = 1.925, accuracy = 0.875, time = 2:12:25.860423\n",
            "iteration (31400): loss = 1.925, accuracy = 0.875, time = 2:12:48.218611\n",
            "iteration (31500): loss = 1.936, accuracy = 0.875, time = 2:13:10.562607\n",
            "iteration (31600): loss = 1.890, accuracy = 1.000, time = 2:13:32.927635\n",
            "iteration (31700): loss = 1.916, accuracy = 0.875, time = 2:13:55.566340\n",
            "iteration (31800): loss = 1.934, accuracy = 1.000, time = 2:14:18.019094\n",
            "iteration (31900): loss = 1.921, accuracy = 0.750, time = 2:14:40.405006\n"
          ],
          "name": "stdout"
        },
        {
          "output_type": "stream",
          "text": [
            "/usr/local/lib/python3.6/dist-packages/ipykernel_launcher.py:180: MatplotlibDeprecationWarning: Adding an axes using the same arguments as a previous axes currently reuses the earlier instance.  In a future version, a new instance will always be created and returned.  Meanwhile, this warning can be suppressed, and the future behavior ensured, by passing a unique label to each axes instance.\n"
          ],
          "name": "stderr"
        },
        {
          "output_type": "stream",
          "text": [
            "validation for epoch 31\n",
            "eval_shape =  250\n",
            "-  epoch 31: validation accuracy = 0.884\n"
          ],
          "name": "stdout"
        },
        {
          "output_type": "stream",
          "text": [
            "/usr/local/lib/python3.6/dist-packages/ipykernel_launcher.py:200: MatplotlibDeprecationWarning: Adding an axes using the same arguments as a previous axes currently reuses the earlier instance.  In a future version, a new instance will always be created and returned.  Meanwhile, this warning can be suppressed, and the future behavior ensured, by passing a unique label to each axes instance.\n",
            "/usr/local/lib/python3.6/dist-packages/ipykernel_launcher.py:208: MatplotlibDeprecationWarning: Adding an axes using the same arguments as a previous axes currently reuses the earlier instance.  In a future version, a new instance will always be created and returned.  Meanwhile, this warning can be suppressed, and the future behavior ensured, by passing a unique label to each axes instance.\n"
          ],
          "name": "stderr"
        },
        {
          "output_type": "stream",
          "text": [
            "train for epoch 32\n",
            "iteration (32000): loss = 1.952, accuracy = 1.000, time = 2:15:42.948244\n",
            "iteration (32100): loss = 1.940, accuracy = 0.875, time = 2:16:05.320043\n",
            "iteration (32200): loss = 1.876, accuracy = 1.000, time = 2:16:27.702951\n",
            "iteration (32300): loss = 1.920, accuracy = 1.000, time = 2:16:50.084583\n",
            "iteration (32400): loss = 1.920, accuracy = 0.875, time = 2:17:12.446720\n",
            "iteration (32500): loss = 1.948, accuracy = 0.875, time = 2:17:34.836712\n",
            "iteration (32600): loss = 1.925, accuracy = 0.875, time = 2:17:57.224770\n",
            "iteration (32700): loss = 1.835, accuracy = 1.000, time = 2:18:19.521728\n",
            "iteration (32800): loss = 1.956, accuracy = 0.875, time = 2:18:41.846771\n",
            "iteration (32900): loss = 1.977, accuracy = 0.625, time = 2:19:04.644476\n"
          ],
          "name": "stdout"
        },
        {
          "output_type": "stream",
          "text": [
            "/usr/local/lib/python3.6/dist-packages/ipykernel_launcher.py:180: MatplotlibDeprecationWarning: Adding an axes using the same arguments as a previous axes currently reuses the earlier instance.  In a future version, a new instance will always be created and returned.  Meanwhile, this warning can be suppressed, and the future behavior ensured, by passing a unique label to each axes instance.\n"
          ],
          "name": "stderr"
        },
        {
          "output_type": "stream",
          "text": [
            "validation for epoch 32\n",
            "eval_shape =  250\n",
            "-  epoch 32: validation accuracy = 0.894\n"
          ],
          "name": "stdout"
        },
        {
          "output_type": "stream",
          "text": [
            "/usr/local/lib/python3.6/dist-packages/ipykernel_launcher.py:200: MatplotlibDeprecationWarning: Adding an axes using the same arguments as a previous axes currently reuses the earlier instance.  In a future version, a new instance will always be created and returned.  Meanwhile, this warning can be suppressed, and the future behavior ensured, by passing a unique label to each axes instance.\n",
            "/usr/local/lib/python3.6/dist-packages/ipykernel_launcher.py:208: MatplotlibDeprecationWarning: Adding an axes using the same arguments as a previous axes currently reuses the earlier instance.  In a future version, a new instance will always be created and returned.  Meanwhile, this warning can be suppressed, and the future behavior ensured, by passing a unique label to each axes instance.\n"
          ],
          "name": "stderr"
        },
        {
          "output_type": "stream",
          "text": [
            "train for epoch 33\n",
            "iteration (33000): loss = 1.929, accuracy = 1.000, time = 2:20:06.186094\n",
            "iteration (33100): loss = 1.856, accuracy = 1.000, time = 2:20:29.375551\n",
            "iteration (33200): loss = 1.844, accuracy = 1.000, time = 2:20:51.983037\n",
            "iteration (33300): loss = 1.870, accuracy = 0.875, time = 2:21:14.342306\n",
            "iteration (33400): loss = 1.871, accuracy = 1.000, time = 2:21:36.735001\n",
            "iteration (33500): loss = 1.908, accuracy = 1.000, time = 2:21:59.077790\n",
            "iteration (33600): loss = 1.873, accuracy = 0.875, time = 2:22:21.428557\n",
            "iteration (33700): loss = 1.913, accuracy = 0.875, time = 2:22:43.769898\n",
            "iteration (33800): loss = 1.924, accuracy = 0.875, time = 2:23:06.103254\n",
            "iteration (33900): loss = 1.946, accuracy = 1.000, time = 2:23:28.418180\n"
          ],
          "name": "stdout"
        },
        {
          "output_type": "stream",
          "text": [
            "/usr/local/lib/python3.6/dist-packages/ipykernel_launcher.py:180: MatplotlibDeprecationWarning: Adding an axes using the same arguments as a previous axes currently reuses the earlier instance.  In a future version, a new instance will always be created and returned.  Meanwhile, this warning can be suppressed, and the future behavior ensured, by passing a unique label to each axes instance.\n"
          ],
          "name": "stderr"
        },
        {
          "output_type": "stream",
          "text": [
            "validation for epoch 33\n",
            "eval_shape =  250\n",
            "-  epoch 33: validation accuracy = 0.875\n"
          ],
          "name": "stdout"
        },
        {
          "output_type": "stream",
          "text": [
            "/usr/local/lib/python3.6/dist-packages/ipykernel_launcher.py:200: MatplotlibDeprecationWarning: Adding an axes using the same arguments as a previous axes currently reuses the earlier instance.  In a future version, a new instance will always be created and returned.  Meanwhile, this warning can be suppressed, and the future behavior ensured, by passing a unique label to each axes instance.\n",
            "/usr/local/lib/python3.6/dist-packages/ipykernel_launcher.py:208: MatplotlibDeprecationWarning: Adding an axes using the same arguments as a previous axes currently reuses the earlier instance.  In a future version, a new instance will always be created and returned.  Meanwhile, this warning can be suppressed, and the future behavior ensured, by passing a unique label to each axes instance.\n"
          ],
          "name": "stderr"
        },
        {
          "output_type": "stream",
          "text": [
            "train for epoch 34\n",
            "iteration (34000): loss = 1.882, accuracy = 0.875, time = 2:24:31.668167\n",
            "iteration (34100): loss = 1.978, accuracy = 0.750, time = 2:24:54.086677\n",
            "iteration (34200): loss = 1.897, accuracy = 1.000, time = 2:25:16.470282\n",
            "iteration (34300): loss = 1.951, accuracy = 0.875, time = 2:25:39.699689\n",
            "iteration (34400): loss = 1.950, accuracy = 0.875, time = 2:26:02.323534\n",
            "iteration (34500): loss = 1.868, accuracy = 1.000, time = 2:26:24.650469\n",
            "iteration (34600): loss = 1.890, accuracy = 1.000, time = 2:26:47.056823\n",
            "iteration (34700): loss = 1.924, accuracy = 0.875, time = 2:27:09.446268\n",
            "iteration (34800): loss = 1.919, accuracy = 0.750, time = 2:27:31.889586\n",
            "iteration (34900): loss = 1.929, accuracy = 0.875, time = 2:27:54.237439\n"
          ],
          "name": "stdout"
        },
        {
          "output_type": "stream",
          "text": [
            "/usr/local/lib/python3.6/dist-packages/ipykernel_launcher.py:180: MatplotlibDeprecationWarning: Adding an axes using the same arguments as a previous axes currently reuses the earlier instance.  In a future version, a new instance will always be created and returned.  Meanwhile, this warning can be suppressed, and the future behavior ensured, by passing a unique label to each axes instance.\n"
          ],
          "name": "stderr"
        },
        {
          "output_type": "stream",
          "text": [
            "validation for epoch 34\n",
            "eval_shape =  250\n",
            "-  epoch 34: validation accuracy = 0.884\n"
          ],
          "name": "stdout"
        },
        {
          "output_type": "stream",
          "text": [
            "/usr/local/lib/python3.6/dist-packages/ipykernel_launcher.py:200: MatplotlibDeprecationWarning: Adding an axes using the same arguments as a previous axes currently reuses the earlier instance.  In a future version, a new instance will always be created and returned.  Meanwhile, this warning can be suppressed, and the future behavior ensured, by passing a unique label to each axes instance.\n",
            "/usr/local/lib/python3.6/dist-packages/ipykernel_launcher.py:208: MatplotlibDeprecationWarning: Adding an axes using the same arguments as a previous axes currently reuses the earlier instance.  In a future version, a new instance will always be created and returned.  Meanwhile, this warning can be suppressed, and the future behavior ensured, by passing a unique label to each axes instance.\n"
          ],
          "name": "stderr"
        },
        {
          "output_type": "stream",
          "text": [
            "train for epoch 35\n",
            "iteration (35000): loss = 1.890, accuracy = 1.000, time = 2:28:58.261866\n",
            "iteration (35100): loss = 1.990, accuracy = 0.875, time = 2:29:21.187622\n",
            "iteration (35200): loss = 1.910, accuracy = 0.875, time = 2:29:43.580525\n",
            "iteration (35300): loss = 1.882, accuracy = 0.875, time = 2:30:05.962132\n",
            "iteration (35400): loss = 1.870, accuracy = 0.875, time = 2:30:28.349938\n",
            "iteration (35500): loss = 1.918, accuracy = 0.875, time = 2:30:51.698075\n",
            "iteration (35600): loss = 1.919, accuracy = 0.875, time = 2:31:14.199997\n",
            "iteration (35700): loss = 1.939, accuracy = 0.750, time = 2:31:36.617326\n",
            "iteration (35800): loss = 1.990, accuracy = 0.750, time = 2:31:58.985521\n",
            "iteration (35900): loss = 1.934, accuracy = 0.875, time = 2:32:21.296076\n"
          ],
          "name": "stdout"
        },
        {
          "output_type": "stream",
          "text": [
            "/usr/local/lib/python3.6/dist-packages/ipykernel_launcher.py:180: MatplotlibDeprecationWarning: Adding an axes using the same arguments as a previous axes currently reuses the earlier instance.  In a future version, a new instance will always be created and returned.  Meanwhile, this warning can be suppressed, and the future behavior ensured, by passing a unique label to each axes instance.\n"
          ],
          "name": "stderr"
        },
        {
          "output_type": "stream",
          "text": [
            "validation for epoch 35\n",
            "eval_shape =  250\n",
            "-  epoch 35: validation accuracy = 0.882\n"
          ],
          "name": "stdout"
        },
        {
          "output_type": "stream",
          "text": [
            "/usr/local/lib/python3.6/dist-packages/ipykernel_launcher.py:200: MatplotlibDeprecationWarning: Adding an axes using the same arguments as a previous axes currently reuses the earlier instance.  In a future version, a new instance will always be created and returned.  Meanwhile, this warning can be suppressed, and the future behavior ensured, by passing a unique label to each axes instance.\n",
            "/usr/local/lib/python3.6/dist-packages/ipykernel_launcher.py:208: MatplotlibDeprecationWarning: Adding an axes using the same arguments as a previous axes currently reuses the earlier instance.  In a future version, a new instance will always be created and returned.  Meanwhile, this warning can be suppressed, and the future behavior ensured, by passing a unique label to each axes instance.\n"
          ],
          "name": "stderr"
        },
        {
          "output_type": "stream",
          "text": [
            "train for epoch 36\n",
            "iteration (36000): loss = 1.993, accuracy = 0.750, time = 2:33:25.566859\n",
            "iteration (36100): loss = 2.085, accuracy = 0.625, time = 2:33:47.884614\n",
            "iteration (36200): loss = 1.977, accuracy = 0.750, time = 2:34:10.247748\n",
            "iteration (36300): loss = 1.868, accuracy = 1.000, time = 2:34:32.997557\n",
            "iteration (36400): loss = 1.924, accuracy = 0.875, time = 2:34:55.317609\n",
            "iteration (36500): loss = 1.955, accuracy = 0.875, time = 2:35:17.708677\n",
            "iteration (36600): loss = 2.052, accuracy = 0.750, time = 2:35:40.115572\n",
            "iteration (36700): loss = 1.857, accuracy = 1.000, time = 2:36:03.443129\n",
            "iteration (36800): loss = 1.811, accuracy = 1.000, time = 2:36:25.809487\n",
            "iteration (36900): loss = 1.943, accuracy = 1.000, time = 2:36:48.114983\n"
          ],
          "name": "stdout"
        },
        {
          "output_type": "stream",
          "text": [
            "/usr/local/lib/python3.6/dist-packages/ipykernel_launcher.py:180: MatplotlibDeprecationWarning: Adding an axes using the same arguments as a previous axes currently reuses the earlier instance.  In a future version, a new instance will always be created and returned.  Meanwhile, this warning can be suppressed, and the future behavior ensured, by passing a unique label to each axes instance.\n"
          ],
          "name": "stderr"
        },
        {
          "output_type": "stream",
          "text": [
            "validation for epoch 36\n",
            "eval_shape =  250\n",
            "-  epoch 36: validation accuracy = 0.892\n"
          ],
          "name": "stdout"
        },
        {
          "output_type": "stream",
          "text": [
            "/usr/local/lib/python3.6/dist-packages/ipykernel_launcher.py:200: MatplotlibDeprecationWarning: Adding an axes using the same arguments as a previous axes currently reuses the earlier instance.  In a future version, a new instance will always be created and returned.  Meanwhile, this warning can be suppressed, and the future behavior ensured, by passing a unique label to each axes instance.\n",
            "/usr/local/lib/python3.6/dist-packages/ipykernel_launcher.py:208: MatplotlibDeprecationWarning: Adding an axes using the same arguments as a previous axes currently reuses the earlier instance.  In a future version, a new instance will always be created and returned.  Meanwhile, this warning can be suppressed, and the future behavior ensured, by passing a unique label to each axes instance.\n"
          ],
          "name": "stderr"
        },
        {
          "output_type": "stream",
          "text": [
            "train for epoch 37\n",
            "iteration (37000): loss = 1.928, accuracy = 1.000, time = 2:37:53.738090\n",
            "iteration (37100): loss = 1.894, accuracy = 1.000, time = 2:38:16.102542\n",
            "iteration (37200): loss = 1.952, accuracy = 0.750, time = 2:38:38.472762\n",
            "iteration (37300): loss = 1.967, accuracy = 0.875, time = 2:39:00.856040\n",
            "iteration (37400): loss = 1.864, accuracy = 1.000, time = 2:39:23.619470\n",
            "iteration (37500): loss = 1.950, accuracy = 0.750, time = 2:39:46.040155\n",
            "iteration (37600): loss = 1.901, accuracy = 0.750, time = 2:40:08.396927\n",
            "iteration (37700): loss = 1.965, accuracy = 0.875, time = 2:40:30.698949\n",
            "iteration (37800): loss = 1.923, accuracy = 0.875, time = 2:40:53.002303\n",
            "iteration (37900): loss = 1.928, accuracy = 0.625, time = 2:41:16.415004\n"
          ],
          "name": "stdout"
        },
        {
          "output_type": "stream",
          "text": [
            "/usr/local/lib/python3.6/dist-packages/ipykernel_launcher.py:180: MatplotlibDeprecationWarning: Adding an axes using the same arguments as a previous axes currently reuses the earlier instance.  In a future version, a new instance will always be created and returned.  Meanwhile, this warning can be suppressed, and the future behavior ensured, by passing a unique label to each axes instance.\n"
          ],
          "name": "stderr"
        },
        {
          "output_type": "stream",
          "text": [
            "validation for epoch 37\n",
            "eval_shape =  250\n",
            "-  epoch 37: validation accuracy = 0.886\n"
          ],
          "name": "stdout"
        },
        {
          "output_type": "stream",
          "text": [
            "/usr/local/lib/python3.6/dist-packages/ipykernel_launcher.py:200: MatplotlibDeprecationWarning: Adding an axes using the same arguments as a previous axes currently reuses the earlier instance.  In a future version, a new instance will always be created and returned.  Meanwhile, this warning can be suppressed, and the future behavior ensured, by passing a unique label to each axes instance.\n",
            "/usr/local/lib/python3.6/dist-packages/ipykernel_launcher.py:208: MatplotlibDeprecationWarning: Adding an axes using the same arguments as a previous axes currently reuses the earlier instance.  In a future version, a new instance will always be created and returned.  Meanwhile, this warning can be suppressed, and the future behavior ensured, by passing a unique label to each axes instance.\n"
          ],
          "name": "stderr"
        },
        {
          "output_type": "stream",
          "text": [
            "train for epoch 38\n",
            "iteration (38000): loss = 1.992, accuracy = 0.875, time = 2:42:22.557129\n",
            "iteration (38100): loss = 1.927, accuracy = 0.875, time = 2:42:44.944318\n",
            "iteration (38200): loss = 2.041, accuracy = 0.750, time = 2:43:07.267893\n",
            "iteration (38300): loss = 1.831, accuracy = 1.000, time = 2:43:29.601435\n",
            "iteration (38400): loss = 1.915, accuracy = 1.000, time = 2:43:51.980609\n",
            "iteration (38500): loss = 2.021, accuracy = 0.750, time = 2:44:14.321738\n",
            "iteration (38600): loss = 1.906, accuracy = 0.875, time = 2:44:37.161159\n",
            "iteration (38700): loss = 1.995, accuracy = 0.750, time = 2:44:59.495002\n",
            "iteration (38800): loss = 1.892, accuracy = 1.000, time = 2:45:21.787067\n",
            "iteration (38900): loss = 1.901, accuracy = 0.875, time = 2:45:44.154080\n"
          ],
          "name": "stdout"
        },
        {
          "output_type": "stream",
          "text": [
            "/usr/local/lib/python3.6/dist-packages/ipykernel_launcher.py:180: MatplotlibDeprecationWarning: Adding an axes using the same arguments as a previous axes currently reuses the earlier instance.  In a future version, a new instance will always be created and returned.  Meanwhile, this warning can be suppressed, and the future behavior ensured, by passing a unique label to each axes instance.\n"
          ],
          "name": "stderr"
        },
        {
          "output_type": "stream",
          "text": [
            "validation for epoch 38\n",
            "eval_shape =  250\n",
            "-  epoch 38: validation accuracy = 0.889\n"
          ],
          "name": "stdout"
        },
        {
          "output_type": "stream",
          "text": [
            "/usr/local/lib/python3.6/dist-packages/ipykernel_launcher.py:200: MatplotlibDeprecationWarning: Adding an axes using the same arguments as a previous axes currently reuses the earlier instance.  In a future version, a new instance will always be created and returned.  Meanwhile, this warning can be suppressed, and the future behavior ensured, by passing a unique label to each axes instance.\n",
            "/usr/local/lib/python3.6/dist-packages/ipykernel_launcher.py:208: MatplotlibDeprecationWarning: Adding an axes using the same arguments as a previous axes currently reuses the earlier instance.  In a future version, a new instance will always be created and returned.  Meanwhile, this warning can be suppressed, and the future behavior ensured, by passing a unique label to each axes instance.\n"
          ],
          "name": "stderr"
        },
        {
          "output_type": "stream",
          "text": [
            "train for epoch 39\n",
            "iteration (39000): loss = 1.949, accuracy = 1.000, time = 2:46:52.890514\n",
            "iteration (39100): loss = 2.002, accuracy = 0.625, time = 2:47:15.301672\n",
            "iteration (39200): loss = 1.934, accuracy = 1.000, time = 2:47:37.644606\n",
            "iteration (39300): loss = 1.832, accuracy = 1.000, time = 2:47:59.971497\n",
            "iteration (39400): loss = 1.958, accuracy = 0.875, time = 2:48:22.265714\n",
            "iteration (39500): loss = 1.909, accuracy = 0.875, time = 2:48:44.577472\n",
            "iteration (39600): loss = 1.999, accuracy = 0.875, time = 2:49:06.864912\n",
            "iteration (39700): loss = 1.893, accuracy = 1.000, time = 2:49:29.184977\n",
            "iteration (39800): loss = 1.882, accuracy = 0.875, time = 2:49:51.888544\n",
            "iteration (39900): loss = 1.888, accuracy = 1.000, time = 2:50:14.184031\n"
          ],
          "name": "stdout"
        },
        {
          "output_type": "stream",
          "text": [
            "/usr/local/lib/python3.6/dist-packages/ipykernel_launcher.py:180: MatplotlibDeprecationWarning: Adding an axes using the same arguments as a previous axes currently reuses the earlier instance.  In a future version, a new instance will always be created and returned.  Meanwhile, this warning can be suppressed, and the future behavior ensured, by passing a unique label to each axes instance.\n"
          ],
          "name": "stderr"
        },
        {
          "output_type": "stream",
          "text": [
            "validation for epoch 39\n",
            "eval_shape =  250\n",
            "-  epoch 39: validation accuracy = 0.889\n"
          ],
          "name": "stdout"
        },
        {
          "output_type": "stream",
          "text": [
            "/usr/local/lib/python3.6/dist-packages/ipykernel_launcher.py:200: MatplotlibDeprecationWarning: Adding an axes using the same arguments as a previous axes currently reuses the earlier instance.  In a future version, a new instance will always be created and returned.  Meanwhile, this warning can be suppressed, and the future behavior ensured, by passing a unique label to each axes instance.\n",
            "/usr/local/lib/python3.6/dist-packages/ipykernel_launcher.py:208: MatplotlibDeprecationWarning: Adding an axes using the same arguments as a previous axes currently reuses the earlier instance.  In a future version, a new instance will always be created and returned.  Meanwhile, this warning can be suppressed, and the future behavior ensured, by passing a unique label to each axes instance.\n"
          ],
          "name": "stderr"
        },
        {
          "output_type": "stream",
          "text": [
            "train for epoch 40\n",
            "iteration (40000): loss = 1.911, accuracy = 0.875, time = 2:51:22.290308\n",
            "iteration (40100): loss = 1.915, accuracy = 0.875, time = 2:51:45.659434\n",
            "iteration (40200): loss = 1.949, accuracy = 0.875, time = 2:52:07.983948\n",
            "iteration (40300): loss = 1.879, accuracy = 1.000, time = 2:52:30.269018\n",
            "iteration (40400): loss = 1.976, accuracy = 0.875, time = 2:52:52.540268\n",
            "iteration (40500): loss = 1.914, accuracy = 0.875, time = 2:53:14.906788\n",
            "iteration (40600): loss = 1.942, accuracy = 1.000, time = 2:53:37.229674\n",
            "iteration (40700): loss = 1.897, accuracy = 1.000, time = 2:53:59.483167\n",
            "iteration (40800): loss = 1.864, accuracy = 1.000, time = 2:54:21.837006\n",
            "iteration (40900): loss = 1.938, accuracy = 0.875, time = 2:54:44.556035\n"
          ],
          "name": "stdout"
        },
        {
          "output_type": "stream",
          "text": [
            "/usr/local/lib/python3.6/dist-packages/ipykernel_launcher.py:180: MatplotlibDeprecationWarning: Adding an axes using the same arguments as a previous axes currently reuses the earlier instance.  In a future version, a new instance will always be created and returned.  Meanwhile, this warning can be suppressed, and the future behavior ensured, by passing a unique label to each axes instance.\n"
          ],
          "name": "stderr"
        },
        {
          "output_type": "stream",
          "text": [
            "validation for epoch 40\n",
            "eval_shape =  250\n",
            "-  epoch 40: validation accuracy = 0.881\n"
          ],
          "name": "stdout"
        },
        {
          "output_type": "stream",
          "text": [
            "/usr/local/lib/python3.6/dist-packages/ipykernel_launcher.py:200: MatplotlibDeprecationWarning: Adding an axes using the same arguments as a previous axes currently reuses the earlier instance.  In a future version, a new instance will always be created and returned.  Meanwhile, this warning can be suppressed, and the future behavior ensured, by passing a unique label to each axes instance.\n",
            "/usr/local/lib/python3.6/dist-packages/ipykernel_launcher.py:208: MatplotlibDeprecationWarning: Adding an axes using the same arguments as a previous axes currently reuses the earlier instance.  In a future version, a new instance will always be created and returned.  Meanwhile, this warning can be suppressed, and the future behavior ensured, by passing a unique label to each axes instance.\n"
          ],
          "name": "stderr"
        },
        {
          "output_type": "stream",
          "text": [
            "train for epoch 41\n",
            "iteration (41000): loss = 1.851, accuracy = 1.000, time = 2:55:54.106642\n",
            "iteration (41100): loss = 1.918, accuracy = 0.875, time = 2:56:16.386667\n",
            "iteration (41200): loss = 1.886, accuracy = 1.000, time = 2:56:38.848966\n",
            "iteration (41300): loss = 1.907, accuracy = 1.000, time = 2:57:02.070713\n",
            "iteration (41400): loss = 1.941, accuracy = 0.750, time = 2:57:24.361592\n",
            "iteration (41500): loss = 1.898, accuracy = 1.000, time = 2:57:46.671414\n",
            "iteration (41600): loss = 1.982, accuracy = 0.875, time = 2:58:09.009085\n",
            "iteration (41700): loss = 1.955, accuracy = 0.875, time = 2:58:31.342294\n",
            "iteration (41800): loss = 1.948, accuracy = 0.875, time = 2:58:53.687080\n",
            "iteration (41900): loss = 1.933, accuracy = 0.875, time = 2:59:15.940961\n"
          ],
          "name": "stdout"
        },
        {
          "output_type": "stream",
          "text": [
            "/usr/local/lib/python3.6/dist-packages/ipykernel_launcher.py:180: MatplotlibDeprecationWarning: Adding an axes using the same arguments as a previous axes currently reuses the earlier instance.  In a future version, a new instance will always be created and returned.  Meanwhile, this warning can be suppressed, and the future behavior ensured, by passing a unique label to each axes instance.\n"
          ],
          "name": "stderr"
        },
        {
          "output_type": "stream",
          "text": [
            "validation for epoch 41\n",
            "eval_shape =  250\n",
            "-  epoch 41: validation accuracy = 0.881\n"
          ],
          "name": "stdout"
        },
        {
          "output_type": "stream",
          "text": [
            "/usr/local/lib/python3.6/dist-packages/ipykernel_launcher.py:200: MatplotlibDeprecationWarning: Adding an axes using the same arguments as a previous axes currently reuses the earlier instance.  In a future version, a new instance will always be created and returned.  Meanwhile, this warning can be suppressed, and the future behavior ensured, by passing a unique label to each axes instance.\n",
            "/usr/local/lib/python3.6/dist-packages/ipykernel_launcher.py:208: MatplotlibDeprecationWarning: Adding an axes using the same arguments as a previous axes currently reuses the earlier instance.  In a future version, a new instance will always be created and returned.  Meanwhile, this warning can be suppressed, and the future behavior ensured, by passing a unique label to each axes instance.\n"
          ],
          "name": "stderr"
        },
        {
          "output_type": "stream",
          "text": [
            "train for epoch 42\n",
            "iteration (42000): loss = 1.957, accuracy = 0.625, time = 3:00:26.891911\n",
            "iteration (42100): loss = 1.893, accuracy = 1.000, time = 3:00:49.292539\n",
            "iteration (42200): loss = 1.879, accuracy = 1.000, time = 3:01:11.628744\n",
            "iteration (42300): loss = 1.896, accuracy = 0.875, time = 3:01:33.960472\n",
            "iteration (42400): loss = 1.957, accuracy = 0.750, time = 3:01:57.195730\n",
            "iteration (42500): loss = 1.934, accuracy = 1.000, time = 3:02:19.648247\n",
            "iteration (42600): loss = 1.861, accuracy = 0.875, time = 3:02:41.937978\n",
            "iteration (42700): loss = 1.922, accuracy = 0.875, time = 3:03:04.216711\n",
            "iteration (42800): loss = 1.856, accuracy = 0.875, time = 3:03:26.565613\n",
            "iteration (42900): loss = 1.860, accuracy = 1.000, time = 3:03:48.908528\n"
          ],
          "name": "stdout"
        },
        {
          "output_type": "stream",
          "text": [
            "/usr/local/lib/python3.6/dist-packages/ipykernel_launcher.py:180: MatplotlibDeprecationWarning: Adding an axes using the same arguments as a previous axes currently reuses the earlier instance.  In a future version, a new instance will always be created and returned.  Meanwhile, this warning can be suppressed, and the future behavior ensured, by passing a unique label to each axes instance.\n"
          ],
          "name": "stderr"
        },
        {
          "output_type": "stream",
          "text": [
            "validation for epoch 42\n",
            "eval_shape =  250\n",
            "-  epoch 42: validation accuracy = 0.887\n"
          ],
          "name": "stdout"
        },
        {
          "output_type": "stream",
          "text": [
            "/usr/local/lib/python3.6/dist-packages/ipykernel_launcher.py:200: MatplotlibDeprecationWarning: Adding an axes using the same arguments as a previous axes currently reuses the earlier instance.  In a future version, a new instance will always be created and returned.  Meanwhile, this warning can be suppressed, and the future behavior ensured, by passing a unique label to each axes instance.\n",
            "/usr/local/lib/python3.6/dist-packages/ipykernel_launcher.py:208: MatplotlibDeprecationWarning: Adding an axes using the same arguments as a previous axes currently reuses the earlier instance.  In a future version, a new instance will always be created and returned.  Meanwhile, this warning can be suppressed, and the future behavior ensured, by passing a unique label to each axes instance.\n"
          ],
          "name": "stderr"
        },
        {
          "output_type": "stream",
          "text": [
            "train for epoch 43\n",
            "iteration (43000): loss = 1.852, accuracy = 1.000, time = 3:05:00.719850\n",
            "iteration (43100): loss = 1.945, accuracy = 0.750, time = 3:05:23.067952\n",
            "iteration (43200): loss = 1.971, accuracy = 0.750, time = 3:05:45.360371\n",
            "iteration (43300): loss = 1.871, accuracy = 1.000, time = 3:06:07.636282\n",
            "iteration (43400): loss = 1.914, accuracy = 1.000, time = 3:06:29.942563\n",
            "iteration (43500): loss = 1.877, accuracy = 0.875, time = 3:06:52.235289\n",
            "iteration (43600): loss = 1.979, accuracy = 0.875, time = 3:07:15.585673\n",
            "iteration (43700): loss = 1.976, accuracy = 0.875, time = 3:07:37.819622\n",
            "iteration (43800): loss = 1.930, accuracy = 0.875, time = 3:08:00.038255\n",
            "iteration (43900): loss = 1.937, accuracy = 0.750, time = 3:08:22.336658\n"
          ],
          "name": "stdout"
        },
        {
          "output_type": "stream",
          "text": [
            "/usr/local/lib/python3.6/dist-packages/ipykernel_launcher.py:180: MatplotlibDeprecationWarning: Adding an axes using the same arguments as a previous axes currently reuses the earlier instance.  In a future version, a new instance will always be created and returned.  Meanwhile, this warning can be suppressed, and the future behavior ensured, by passing a unique label to each axes instance.\n"
          ],
          "name": "stderr"
        },
        {
          "output_type": "stream",
          "text": [
            "validation for epoch 43\n",
            "eval_shape =  250\n",
            "-  epoch 43: validation accuracy = 0.892\n"
          ],
          "name": "stdout"
        },
        {
          "output_type": "stream",
          "text": [
            "/usr/local/lib/python3.6/dist-packages/ipykernel_launcher.py:200: MatplotlibDeprecationWarning: Adding an axes using the same arguments as a previous axes currently reuses the earlier instance.  In a future version, a new instance will always be created and returned.  Meanwhile, this warning can be suppressed, and the future behavior ensured, by passing a unique label to each axes instance.\n",
            "/usr/local/lib/python3.6/dist-packages/ipykernel_launcher.py:208: MatplotlibDeprecationWarning: Adding an axes using the same arguments as a previous axes currently reuses the earlier instance.  In a future version, a new instance will always be created and returned.  Meanwhile, this warning can be suppressed, and the future behavior ensured, by passing a unique label to each axes instance.\n"
          ],
          "name": "stderr"
        },
        {
          "output_type": "stream",
          "text": [
            "train for epoch 44\n",
            "iteration (44000): loss = 1.892, accuracy = 0.750, time = 3:09:34.930680\n",
            "iteration (44100): loss = 1.886, accuracy = 1.000, time = 3:09:57.598122\n",
            "iteration (44200): loss = 1.881, accuracy = 1.000, time = 3:10:19.979855\n",
            "iteration (44300): loss = 1.854, accuracy = 1.000, time = 3:10:42.301862\n",
            "iteration (44400): loss = 1.853, accuracy = 0.875, time = 3:11:04.551465\n",
            "iteration (44500): loss = 1.854, accuracy = 0.875, time = 3:11:26.858374\n",
            "iteration (44600): loss = 1.965, accuracy = 0.875, time = 3:11:49.152715\n",
            "iteration (44700): loss = 1.848, accuracy = 0.875, time = 3:12:11.557941\n",
            "iteration (44800): loss = 1.842, accuracy = 1.000, time = 3:12:34.721794\n",
            "iteration (44900): loss = 2.013, accuracy = 0.625, time = 3:12:56.949332\n"
          ],
          "name": "stdout"
        },
        {
          "output_type": "stream",
          "text": [
            "/usr/local/lib/python3.6/dist-packages/ipykernel_launcher.py:180: MatplotlibDeprecationWarning: Adding an axes using the same arguments as a previous axes currently reuses the earlier instance.  In a future version, a new instance will always be created and returned.  Meanwhile, this warning can be suppressed, and the future behavior ensured, by passing a unique label to each axes instance.\n"
          ],
          "name": "stderr"
        },
        {
          "output_type": "stream",
          "text": [
            "validation for epoch 44\n",
            "eval_shape =  250\n",
            "-  epoch 44: validation accuracy = 0.899\n"
          ],
          "name": "stdout"
        },
        {
          "output_type": "stream",
          "text": [
            "/usr/local/lib/python3.6/dist-packages/ipykernel_launcher.py:200: MatplotlibDeprecationWarning: Adding an axes using the same arguments as a previous axes currently reuses the earlier instance.  In a future version, a new instance will always be created and returned.  Meanwhile, this warning can be suppressed, and the future behavior ensured, by passing a unique label to each axes instance.\n",
            "/usr/local/lib/python3.6/dist-packages/ipykernel_launcher.py:208: MatplotlibDeprecationWarning: Adding an axes using the same arguments as a previous axes currently reuses the earlier instance.  In a future version, a new instance will always be created and returned.  Meanwhile, this warning can be suppressed, and the future behavior ensured, by passing a unique label to each axes instance.\n"
          ],
          "name": "stderr"
        },
        {
          "output_type": "stream",
          "text": [
            "train for epoch 45\n",
            "iteration (45000): loss = 1.943, accuracy = 0.875, time = 3:14:11.308306\n",
            "iteration (45100): loss = 1.917, accuracy = 0.875, time = 3:14:33.581622\n",
            "iteration (45200): loss = 1.896, accuracy = 0.875, time = 3:14:55.859910\n",
            "iteration (45300): loss = 1.939, accuracy = 1.000, time = 3:15:18.608530\n",
            "iteration (45400): loss = 1.838, accuracy = 1.000, time = 3:15:40.863779\n",
            "iteration (45500): loss = 1.913, accuracy = 1.000, time = 3:16:03.045913\n",
            "iteration (45600): loss = 2.122, accuracy = 0.500, time = 3:16:25.412932\n",
            "iteration (45700): loss = 1.959, accuracy = 0.750, time = 3:16:47.663481\n",
            "iteration (45800): loss = 1.967, accuracy = 0.750, time = 3:17:09.944166\n",
            "iteration (45900): loss = 1.923, accuracy = 0.750, time = 3:17:33.306089\n"
          ],
          "name": "stdout"
        },
        {
          "output_type": "stream",
          "text": [
            "/usr/local/lib/python3.6/dist-packages/ipykernel_launcher.py:180: MatplotlibDeprecationWarning: Adding an axes using the same arguments as a previous axes currently reuses the earlier instance.  In a future version, a new instance will always be created and returned.  Meanwhile, this warning can be suppressed, and the future behavior ensured, by passing a unique label to each axes instance.\n"
          ],
          "name": "stderr"
        },
        {
          "output_type": "stream",
          "text": [
            "validation for epoch 45\n",
            "eval_shape =  250\n",
            "-  epoch 45: validation accuracy = 0.884\n"
          ],
          "name": "stdout"
        },
        {
          "output_type": "stream",
          "text": [
            "/usr/local/lib/python3.6/dist-packages/ipykernel_launcher.py:200: MatplotlibDeprecationWarning: Adding an axes using the same arguments as a previous axes currently reuses the earlier instance.  In a future version, a new instance will always be created and returned.  Meanwhile, this warning can be suppressed, and the future behavior ensured, by passing a unique label to each axes instance.\n",
            "/usr/local/lib/python3.6/dist-packages/ipykernel_launcher.py:208: MatplotlibDeprecationWarning: Adding an axes using the same arguments as a previous axes currently reuses the earlier instance.  In a future version, a new instance will always be created and returned.  Meanwhile, this warning can be suppressed, and the future behavior ensured, by passing a unique label to each axes instance.\n"
          ],
          "name": "stderr"
        },
        {
          "output_type": "stream",
          "text": [
            "train for epoch 46\n",
            "iteration (46000): loss = 1.928, accuracy = 0.750, time = 3:18:48.536357\n",
            "iteration (46100): loss = 2.008, accuracy = 0.875, time = 3:19:10.798006\n",
            "iteration (46200): loss = 1.979, accuracy = 0.875, time = 3:19:33.123021\n",
            "iteration (46300): loss = 1.971, accuracy = 0.875, time = 3:19:55.400514\n",
            "iteration (46400): loss = 1.949, accuracy = 0.875, time = 3:20:18.063719\n",
            "iteration (46500): loss = 1.885, accuracy = 1.000, time = 3:20:40.428044\n",
            "iteration (46600): loss = 1.914, accuracy = 1.000, time = 3:21:02.743170\n",
            "iteration (46700): loss = 1.879, accuracy = 1.000, time = 3:21:25.110168\n",
            "iteration (46800): loss = 1.923, accuracy = 1.000, time = 3:21:47.380135\n",
            "iteration (46900): loss = 1.902, accuracy = 1.000, time = 3:22:09.714901\n"
          ],
          "name": "stdout"
        },
        {
          "output_type": "stream",
          "text": [
            "/usr/local/lib/python3.6/dist-packages/ipykernel_launcher.py:180: MatplotlibDeprecationWarning: Adding an axes using the same arguments as a previous axes currently reuses the earlier instance.  In a future version, a new instance will always be created and returned.  Meanwhile, this warning can be suppressed, and the future behavior ensured, by passing a unique label to each axes instance.\n"
          ],
          "name": "stderr"
        },
        {
          "output_type": "stream",
          "text": [
            "validation for epoch 46\n",
            "eval_shape =  250\n",
            "-  epoch 46: validation accuracy = 0.885\n"
          ],
          "name": "stdout"
        },
        {
          "output_type": "stream",
          "text": [
            "/usr/local/lib/python3.6/dist-packages/ipykernel_launcher.py:200: MatplotlibDeprecationWarning: Adding an axes using the same arguments as a previous axes currently reuses the earlier instance.  In a future version, a new instance will always be created and returned.  Meanwhile, this warning can be suppressed, and the future behavior ensured, by passing a unique label to each axes instance.\n",
            "/usr/local/lib/python3.6/dist-packages/ipykernel_launcher.py:208: MatplotlibDeprecationWarning: Adding an axes using the same arguments as a previous axes currently reuses the earlier instance.  In a future version, a new instance will always be created and returned.  Meanwhile, this warning can be suppressed, and the future behavior ensured, by passing a unique label to each axes instance.\n"
          ],
          "name": "stderr"
        },
        {
          "output_type": "stream",
          "text": [
            "train for epoch 47\n",
            "iteration (47000): loss = 1.851, accuracy = 1.000, time = 3:23:27.813477\n",
            "iteration (47100): loss = 1.941, accuracy = 0.750, time = 3:23:50.202703\n",
            "iteration (47200): loss = 1.919, accuracy = 1.000, time = 3:24:12.510692\n",
            "iteration (47300): loss = 1.958, accuracy = 0.875, time = 3:24:34.861583\n",
            "iteration (47400): loss = 1.959, accuracy = 0.875, time = 3:24:57.138186\n",
            "iteration (47500): loss = 1.918, accuracy = 1.000, time = 3:25:19.860103\n",
            "iteration (47600): loss = 1.901, accuracy = 1.000, time = 3:25:42.232416\n",
            "iteration (47700): loss = 2.014, accuracy = 0.750, time = 3:26:04.541863\n",
            "iteration (47800): loss = 1.870, accuracy = 1.000, time = 3:26:26.871392\n",
            "iteration (47900): loss = 1.896, accuracy = 0.875, time = 3:26:49.171162\n"
          ],
          "name": "stdout"
        },
        {
          "output_type": "stream",
          "text": [
            "/usr/local/lib/python3.6/dist-packages/ipykernel_launcher.py:180: MatplotlibDeprecationWarning: Adding an axes using the same arguments as a previous axes currently reuses the earlier instance.  In a future version, a new instance will always be created and returned.  Meanwhile, this warning can be suppressed, and the future behavior ensured, by passing a unique label to each axes instance.\n"
          ],
          "name": "stderr"
        },
        {
          "output_type": "stream",
          "text": [
            "validation for epoch 47\n",
            "eval_shape =  250\n",
            "-  epoch 47: validation accuracy = 0.894\n"
          ],
          "name": "stdout"
        },
        {
          "output_type": "stream",
          "text": [
            "/usr/local/lib/python3.6/dist-packages/ipykernel_launcher.py:200: MatplotlibDeprecationWarning: Adding an axes using the same arguments as a previous axes currently reuses the earlier instance.  In a future version, a new instance will always be created and returned.  Meanwhile, this warning can be suppressed, and the future behavior ensured, by passing a unique label to each axes instance.\n",
            "/usr/local/lib/python3.6/dist-packages/ipykernel_launcher.py:208: MatplotlibDeprecationWarning: Adding an axes using the same arguments as a previous axes currently reuses the earlier instance.  In a future version, a new instance will always be created and returned.  Meanwhile, this warning can be suppressed, and the future behavior ensured, by passing a unique label to each axes instance.\n"
          ],
          "name": "stderr"
        },
        {
          "output_type": "stream",
          "text": [
            "train for epoch 48\n",
            "iteration (48000): loss = 1.866, accuracy = 1.000, time = 3:28:07.452822\n",
            "iteration (48100): loss = 1.892, accuracy = 1.000, time = 3:28:29.773664\n",
            "iteration (48200): loss = 1.978, accuracy = 0.625, time = 3:28:52.122492\n",
            "iteration (48300): loss = 1.862, accuracy = 1.000, time = 3:29:14.446962\n",
            "iteration (48400): loss = 1.847, accuracy = 1.000, time = 3:29:36.735734\n",
            "iteration (48500): loss = 1.904, accuracy = 0.875, time = 3:29:59.066391\n",
            "iteration (48600): loss = 1.878, accuracy = 1.000, time = 3:30:21.798996\n",
            "iteration (48700): loss = 1.932, accuracy = 1.000, time = 3:30:44.180425\n",
            "iteration (48800): loss = 1.899, accuracy = 1.000, time = 3:31:06.526389\n",
            "iteration (48900): loss = 1.854, accuracy = 1.000, time = 3:31:28.885026\n"
          ],
          "name": "stdout"
        },
        {
          "output_type": "stream",
          "text": [
            "/usr/local/lib/python3.6/dist-packages/ipykernel_launcher.py:180: MatplotlibDeprecationWarning: Adding an axes using the same arguments as a previous axes currently reuses the earlier instance.  In a future version, a new instance will always be created and returned.  Meanwhile, this warning can be suppressed, and the future behavior ensured, by passing a unique label to each axes instance.\n"
          ],
          "name": "stderr"
        },
        {
          "output_type": "stream",
          "text": [
            "validation for epoch 48\n",
            "eval_shape =  250\n",
            "-  epoch 48: validation accuracy = 0.891\n"
          ],
          "name": "stdout"
        },
        {
          "output_type": "stream",
          "text": [
            "/usr/local/lib/python3.6/dist-packages/ipykernel_launcher.py:200: MatplotlibDeprecationWarning: Adding an axes using the same arguments as a previous axes currently reuses the earlier instance.  In a future version, a new instance will always be created and returned.  Meanwhile, this warning can be suppressed, and the future behavior ensured, by passing a unique label to each axes instance.\n",
            "/usr/local/lib/python3.6/dist-packages/ipykernel_launcher.py:208: MatplotlibDeprecationWarning: Adding an axes using the same arguments as a previous axes currently reuses the earlier instance.  In a future version, a new instance will always be created and returned.  Meanwhile, this warning can be suppressed, and the future behavior ensured, by passing a unique label to each axes instance.\n"
          ],
          "name": "stderr"
        },
        {
          "output_type": "stream",
          "text": [
            "train for epoch 49\n",
            "iteration (49000): loss = 1.921, accuracy = 0.875, time = 3:32:48.053219\n",
            "iteration (49100): loss = 1.874, accuracy = 1.000, time = 3:33:11.320360\n",
            "iteration (49200): loss = 2.012, accuracy = 0.750, time = 3:33:33.667223\n",
            "iteration (49300): loss = 1.985, accuracy = 1.000, time = 3:33:56.036868\n",
            "iteration (49400): loss = 1.901, accuracy = 0.875, time = 3:34:18.431055\n",
            "iteration (49500): loss = 1.839, accuracy = 1.000, time = 3:34:40.827383\n",
            "iteration (49600): loss = 1.855, accuracy = 1.000, time = 3:35:03.172958\n",
            "iteration (49700): loss = 1.829, accuracy = 1.000, time = 3:35:25.840557\n",
            "iteration (49800): loss = 1.972, accuracy = 0.875, time = 3:35:48.188837\n",
            "iteration (49900): loss = 1.857, accuracy = 1.000, time = 3:36:10.574459\n"
          ],
          "name": "stdout"
        },
        {
          "output_type": "stream",
          "text": [
            "/usr/local/lib/python3.6/dist-packages/ipykernel_launcher.py:180: MatplotlibDeprecationWarning: Adding an axes using the same arguments as a previous axes currently reuses the earlier instance.  In a future version, a new instance will always be created and returned.  Meanwhile, this warning can be suppressed, and the future behavior ensured, by passing a unique label to each axes instance.\n"
          ],
          "name": "stderr"
        },
        {
          "output_type": "stream",
          "text": [
            "validation for epoch 49\n",
            "eval_shape =  250\n",
            "-  epoch 49: validation accuracy = 0.898\n"
          ],
          "name": "stdout"
        },
        {
          "output_type": "stream",
          "text": [
            "/usr/local/lib/python3.6/dist-packages/ipykernel_launcher.py:200: MatplotlibDeprecationWarning: Adding an axes using the same arguments as a previous axes currently reuses the earlier instance.  In a future version, a new instance will always be created and returned.  Meanwhile, this warning can be suppressed, and the future behavior ensured, by passing a unique label to each axes instance.\n",
            "/usr/local/lib/python3.6/dist-packages/ipykernel_launcher.py:208: MatplotlibDeprecationWarning: Adding an axes using the same arguments as a previous axes currently reuses the earlier instance.  In a future version, a new instance will always be created and returned.  Meanwhile, this warning can be suppressed, and the future behavior ensured, by passing a unique label to each axes instance.\n"
          ],
          "name": "stderr"
        },
        {
          "output_type": "stream",
          "text": [
            "train for epoch 50\n",
            "iteration (50000): loss = 1.907, accuracy = 0.750, time = 3:37:30.883733\n",
            "iteration (50100): loss = 1.860, accuracy = 0.875, time = 3:37:53.240486\n",
            "iteration (50200): loss = 1.871, accuracy = 0.875, time = 3:38:16.420832\n",
            "iteration (50300): loss = 1.929, accuracy = 0.750, time = 3:38:38.700094\n",
            "iteration (50400): loss = 1.900, accuracy = 0.875, time = 3:39:01.121077\n",
            "iteration (50500): loss = 1.887, accuracy = 0.875, time = 3:39:23.419858\n",
            "iteration (50600): loss = 1.885, accuracy = 0.875, time = 3:39:45.710320\n",
            "iteration (50700): loss = 1.947, accuracy = 0.875, time = 3:40:08.084560\n",
            "iteration (50800): loss = 1.905, accuracy = 1.000, time = 3:40:30.696606\n",
            "iteration (50900): loss = 2.032, accuracy = 0.625, time = 3:40:53.086669\n"
          ],
          "name": "stdout"
        },
        {
          "output_type": "stream",
          "text": [
            "/usr/local/lib/python3.6/dist-packages/ipykernel_launcher.py:180: MatplotlibDeprecationWarning: Adding an axes using the same arguments as a previous axes currently reuses the earlier instance.  In a future version, a new instance will always be created and returned.  Meanwhile, this warning can be suppressed, and the future behavior ensured, by passing a unique label to each axes instance.\n"
          ],
          "name": "stderr"
        },
        {
          "output_type": "stream",
          "text": [
            "validation for epoch 50\n",
            "eval_shape =  250\n",
            "-  epoch 50: validation accuracy = 0.890\n"
          ],
          "name": "stdout"
        },
        {
          "output_type": "stream",
          "text": [
            "/usr/local/lib/python3.6/dist-packages/ipykernel_launcher.py:200: MatplotlibDeprecationWarning: Adding an axes using the same arguments as a previous axes currently reuses the earlier instance.  In a future version, a new instance will always be created and returned.  Meanwhile, this warning can be suppressed, and the future behavior ensured, by passing a unique label to each axes instance.\n",
            "/usr/local/lib/python3.6/dist-packages/ipykernel_launcher.py:208: MatplotlibDeprecationWarning: Adding an axes using the same arguments as a previous axes currently reuses the earlier instance.  In a future version, a new instance will always be created and returned.  Meanwhile, this warning can be suppressed, and the future behavior ensured, by passing a unique label to each axes instance.\n"
          ],
          "name": "stderr"
        },
        {
          "output_type": "stream",
          "text": [
            "train for epoch 51\n",
            "iteration (51000): loss = 1.840, accuracy = 1.000, time = 3:42:15.090510\n",
            "iteration (51100): loss = 1.874, accuracy = 0.875, time = 3:42:37.474789\n",
            "iteration (51200): loss = 1.854, accuracy = 1.000, time = 3:42:59.812162\n",
            "iteration (51300): loss = 1.847, accuracy = 1.000, time = 3:43:22.836296\n",
            "iteration (51400): loss = 1.946, accuracy = 1.000, time = 3:43:45.166569\n",
            "iteration (51500): loss = 1.924, accuracy = 0.750, time = 3:44:07.437276\n",
            "iteration (51600): loss = 1.887, accuracy = 1.000, time = 3:44:29.751260\n",
            "iteration (51700): loss = 1.888, accuracy = 1.000, time = 3:44:52.049045\n",
            "iteration (51800): loss = 1.937, accuracy = 0.875, time = 3:45:14.317441\n",
            "iteration (51900): loss = 1.888, accuracy = 1.000, time = 3:45:36.924589\n"
          ],
          "name": "stdout"
        },
        {
          "output_type": "stream",
          "text": [
            "/usr/local/lib/python3.6/dist-packages/ipykernel_launcher.py:180: MatplotlibDeprecationWarning: Adding an axes using the same arguments as a previous axes currently reuses the earlier instance.  In a future version, a new instance will always be created and returned.  Meanwhile, this warning can be suppressed, and the future behavior ensured, by passing a unique label to each axes instance.\n"
          ],
          "name": "stderr"
        },
        {
          "output_type": "stream",
          "text": [
            "validation for epoch 51\n",
            "eval_shape =  250\n",
            "-  epoch 51: validation accuracy = 0.890\n"
          ],
          "name": "stdout"
        },
        {
          "output_type": "stream",
          "text": [
            "/usr/local/lib/python3.6/dist-packages/ipykernel_launcher.py:200: MatplotlibDeprecationWarning: Adding an axes using the same arguments as a previous axes currently reuses the earlier instance.  In a future version, a new instance will always be created and returned.  Meanwhile, this warning can be suppressed, and the future behavior ensured, by passing a unique label to each axes instance.\n",
            "/usr/local/lib/python3.6/dist-packages/ipykernel_launcher.py:208: MatplotlibDeprecationWarning: Adding an axes using the same arguments as a previous axes currently reuses the earlier instance.  In a future version, a new instance will always be created and returned.  Meanwhile, this warning can be suppressed, and the future behavior ensured, by passing a unique label to each axes instance.\n"
          ],
          "name": "stderr"
        },
        {
          "output_type": "stream",
          "text": [
            "train for epoch 52\n",
            "iteration (52000): loss = 1.942, accuracy = 0.875, time = 3:47:00.255527\n",
            "iteration (52100): loss = 1.886, accuracy = 1.000, time = 3:47:22.501439\n",
            "iteration (52200): loss = 1.959, accuracy = 0.875, time = 3:47:44.762396\n",
            "iteration (52300): loss = 1.970, accuracy = 0.750, time = 3:48:07.007679\n",
            "iteration (52400): loss = 1.937, accuracy = 0.750, time = 3:48:29.704673\n",
            "iteration (52500): loss = 1.925, accuracy = 0.875, time = 3:48:52.526310\n",
            "iteration (52600): loss = 2.027, accuracy = 0.500, time = 3:49:14.859758\n",
            "iteration (52700): loss = 1.943, accuracy = 0.875, time = 3:49:37.104545\n",
            "iteration (52800): loss = 1.858, accuracy = 0.875, time = 3:49:59.279975\n",
            "iteration (52900): loss = 1.954, accuracy = 0.875, time = 3:50:21.485146\n"
          ],
          "name": "stdout"
        },
        {
          "output_type": "stream",
          "text": [
            "/usr/local/lib/python3.6/dist-packages/ipykernel_launcher.py:180: MatplotlibDeprecationWarning: Adding an axes using the same arguments as a previous axes currently reuses the earlier instance.  In a future version, a new instance will always be created and returned.  Meanwhile, this warning can be suppressed, and the future behavior ensured, by passing a unique label to each axes instance.\n"
          ],
          "name": "stderr"
        },
        {
          "output_type": "stream",
          "text": [
            "validation for epoch 52\n",
            "eval_shape =  250\n",
            "-  epoch 52: validation accuracy = 0.891\n"
          ],
          "name": "stdout"
        },
        {
          "output_type": "stream",
          "text": [
            "/usr/local/lib/python3.6/dist-packages/ipykernel_launcher.py:200: MatplotlibDeprecationWarning: Adding an axes using the same arguments as a previous axes currently reuses the earlier instance.  In a future version, a new instance will always be created and returned.  Meanwhile, this warning can be suppressed, and the future behavior ensured, by passing a unique label to each axes instance.\n",
            "/usr/local/lib/python3.6/dist-packages/ipykernel_launcher.py:208: MatplotlibDeprecationWarning: Adding an axes using the same arguments as a previous axes currently reuses the earlier instance.  In a future version, a new instance will always be created and returned.  Meanwhile, this warning can be suppressed, and the future behavior ensured, by passing a unique label to each axes instance.\n"
          ],
          "name": "stderr"
        },
        {
          "output_type": "stream",
          "text": [
            "train for epoch 53\n",
            "iteration (53000): loss = 1.913, accuracy = 0.875, time = 3:51:47.317331\n",
            "iteration (53100): loss = 1.960, accuracy = 0.750, time = 3:52:09.605125\n",
            "iteration (53200): loss = 1.901, accuracy = 0.875, time = 3:52:31.922564\n",
            "iteration (53300): loss = 1.890, accuracy = 1.000, time = 3:52:54.257912\n",
            "iteration (53400): loss = 1.906, accuracy = 0.875, time = 3:53:16.535080\n",
            "iteration (53500): loss = 1.914, accuracy = 0.875, time = 3:53:39.193524\n",
            "iteration (53600): loss = 1.819, accuracy = 0.875, time = 3:54:02.223049\n",
            "iteration (53700): loss = 1.884, accuracy = 1.000, time = 3:54:24.532551\n",
            "iteration (53800): loss = 1.911, accuracy = 0.875, time = 3:54:46.738973\n",
            "iteration (53900): loss = 1.884, accuracy = 0.875, time = 3:55:09.026007\n"
          ],
          "name": "stdout"
        },
        {
          "output_type": "stream",
          "text": [
            "/usr/local/lib/python3.6/dist-packages/ipykernel_launcher.py:180: MatplotlibDeprecationWarning: Adding an axes using the same arguments as a previous axes currently reuses the earlier instance.  In a future version, a new instance will always be created and returned.  Meanwhile, this warning can be suppressed, and the future behavior ensured, by passing a unique label to each axes instance.\n"
          ],
          "name": "stderr"
        },
        {
          "output_type": "stream",
          "text": [
            "validation for epoch 53\n",
            "eval_shape =  250\n",
            "-  epoch 53: validation accuracy = 0.871\n"
          ],
          "name": "stdout"
        },
        {
          "output_type": "stream",
          "text": [
            "/usr/local/lib/python3.6/dist-packages/ipykernel_launcher.py:200: MatplotlibDeprecationWarning: Adding an axes using the same arguments as a previous axes currently reuses the earlier instance.  In a future version, a new instance will always be created and returned.  Meanwhile, this warning can be suppressed, and the future behavior ensured, by passing a unique label to each axes instance.\n",
            "/usr/local/lib/python3.6/dist-packages/ipykernel_launcher.py:208: MatplotlibDeprecationWarning: Adding an axes using the same arguments as a previous axes currently reuses the earlier instance.  In a future version, a new instance will always be created and returned.  Meanwhile, this warning can be suppressed, and the future behavior ensured, by passing a unique label to each axes instance.\n"
          ],
          "name": "stderr"
        },
        {
          "output_type": "stream",
          "text": [
            "train for epoch 54\n",
            "iteration (54000): loss = 1.905, accuracy = 0.875, time = 3:56:35.233583\n",
            "iteration (54100): loss = 1.865, accuracy = 0.875, time = 3:56:57.488062\n",
            "iteration (54200): loss = 1.926, accuracy = 0.875, time = 3:57:19.729003\n",
            "iteration (54300): loss = 1.883, accuracy = 1.000, time = 3:57:41.999657\n",
            "iteration (54400): loss = 1.870, accuracy = 1.000, time = 3:58:04.194718\n",
            "iteration (54500): loss = 1.982, accuracy = 0.875, time = 3:58:26.443222\n",
            "iteration (54600): loss = 1.898, accuracy = 1.000, time = 3:58:48.957283\n",
            "iteration (54700): loss = 1.900, accuracy = 0.875, time = 3:59:11.985813\n",
            "iteration (54800): loss = 1.831, accuracy = 1.000, time = 3:59:34.261809\n",
            "iteration (54900): loss = 1.840, accuracy = 1.000, time = 3:59:56.632927\n"
          ],
          "name": "stdout"
        },
        {
          "output_type": "stream",
          "text": [
            "/usr/local/lib/python3.6/dist-packages/ipykernel_launcher.py:180: MatplotlibDeprecationWarning: Adding an axes using the same arguments as a previous axes currently reuses the earlier instance.  In a future version, a new instance will always be created and returned.  Meanwhile, this warning can be suppressed, and the future behavior ensured, by passing a unique label to each axes instance.\n"
          ],
          "name": "stderr"
        },
        {
          "output_type": "stream",
          "text": [
            "validation for epoch 54\n",
            "eval_shape =  250\n",
            "-  epoch 54: validation accuracy = 0.888\n"
          ],
          "name": "stdout"
        },
        {
          "output_type": "stream",
          "text": [
            "/usr/local/lib/python3.6/dist-packages/ipykernel_launcher.py:200: MatplotlibDeprecationWarning: Adding an axes using the same arguments as a previous axes currently reuses the earlier instance.  In a future version, a new instance will always be created and returned.  Meanwhile, this warning can be suppressed, and the future behavior ensured, by passing a unique label to each axes instance.\n",
            "/usr/local/lib/python3.6/dist-packages/ipykernel_launcher.py:208: MatplotlibDeprecationWarning: Adding an axes using the same arguments as a previous axes currently reuses the earlier instance.  In a future version, a new instance will always be created and returned.  Meanwhile, this warning can be suppressed, and the future behavior ensured, by passing a unique label to each axes instance.\n"
          ],
          "name": "stderr"
        },
        {
          "output_type": "stream",
          "text": [
            "train for epoch 55\n",
            "iteration (55000): loss = 1.822, accuracy = 1.000, time = 4:01:25.474748\n",
            "iteration (55100): loss = 1.889, accuracy = 0.875, time = 4:01:47.825686\n",
            "iteration (55200): loss = 1.922, accuracy = 1.000, time = 4:02:10.197648\n",
            "iteration (55300): loss = 1.872, accuracy = 1.000, time = 4:02:32.466439\n",
            "iteration (55400): loss = 1.875, accuracy = 0.750, time = 4:02:54.757278\n",
            "iteration (55500): loss = 1.994, accuracy = 0.875, time = 4:03:17.064907\n",
            "iteration (55600): loss = 1.904, accuracy = 1.000, time = 4:03:39.333835\n",
            "iteration (55700): loss = 1.931, accuracy = 0.875, time = 4:04:02.112285\n",
            "iteration (55800): loss = 1.924, accuracy = 1.000, time = 4:04:24.947732\n",
            "iteration (55900): loss = 1.914, accuracy = 1.000, time = 4:04:47.272260\n"
          ],
          "name": "stdout"
        },
        {
          "output_type": "stream",
          "text": [
            "/usr/local/lib/python3.6/dist-packages/ipykernel_launcher.py:180: MatplotlibDeprecationWarning: Adding an axes using the same arguments as a previous axes currently reuses the earlier instance.  In a future version, a new instance will always be created and returned.  Meanwhile, this warning can be suppressed, and the future behavior ensured, by passing a unique label to each axes instance.\n"
          ],
          "name": "stderr"
        },
        {
          "output_type": "stream",
          "text": [
            "validation for epoch 55\n",
            "eval_shape =  250\n",
            "-  epoch 55: validation accuracy = 0.899\n"
          ],
          "name": "stdout"
        },
        {
          "output_type": "stream",
          "text": [
            "/usr/local/lib/python3.6/dist-packages/ipykernel_launcher.py:200: MatplotlibDeprecationWarning: Adding an axes using the same arguments as a previous axes currently reuses the earlier instance.  In a future version, a new instance will always be created and returned.  Meanwhile, this warning can be suppressed, and the future behavior ensured, by passing a unique label to each axes instance.\n",
            "/usr/local/lib/python3.6/dist-packages/ipykernel_launcher.py:208: MatplotlibDeprecationWarning: Adding an axes using the same arguments as a previous axes currently reuses the earlier instance.  In a future version, a new instance will always be created and returned.  Meanwhile, this warning can be suppressed, and the future behavior ensured, by passing a unique label to each axes instance.\n"
          ],
          "name": "stderr"
        },
        {
          "output_type": "stream",
          "text": [
            "train for epoch 56\n",
            "iteration (56000): loss = 1.848, accuracy = 1.000, time = 4:06:16.907300\n",
            "iteration (56100): loss = 1.915, accuracy = 0.875, time = 4:06:39.210240\n",
            "iteration (56200): loss = 1.886, accuracy = 0.750, time = 4:07:01.524473\n",
            "iteration (56300): loss = 1.870, accuracy = 1.000, time = 4:07:23.806573\n",
            "iteration (56400): loss = 1.905, accuracy = 1.000, time = 4:07:45.923314\n",
            "iteration (56500): loss = 1.945, accuracy = 0.750, time = 4:08:08.175033\n",
            "iteration (56600): loss = 1.993, accuracy = 0.875, time = 4:08:30.386306\n",
            "iteration (56700): loss = 1.909, accuracy = 1.000, time = 4:08:52.549741\n",
            "iteration (56800): loss = 1.930, accuracy = 0.875, time = 4:09:15.384097\n",
            "iteration (56900): loss = 2.010, accuracy = 0.750, time = 4:09:37.969693\n"
          ],
          "name": "stdout"
        },
        {
          "output_type": "stream",
          "text": [
            "/usr/local/lib/python3.6/dist-packages/ipykernel_launcher.py:180: MatplotlibDeprecationWarning: Adding an axes using the same arguments as a previous axes currently reuses the earlier instance.  In a future version, a new instance will always be created and returned.  Meanwhile, this warning can be suppressed, and the future behavior ensured, by passing a unique label to each axes instance.\n"
          ],
          "name": "stderr"
        },
        {
          "output_type": "stream",
          "text": [
            "validation for epoch 56\n",
            "eval_shape =  250\n",
            "-  epoch 56: validation accuracy = 0.888\n"
          ],
          "name": "stdout"
        },
        {
          "output_type": "stream",
          "text": [
            "/usr/local/lib/python3.6/dist-packages/ipykernel_launcher.py:200: MatplotlibDeprecationWarning: Adding an axes using the same arguments as a previous axes currently reuses the earlier instance.  In a future version, a new instance will always be created and returned.  Meanwhile, this warning can be suppressed, and the future behavior ensured, by passing a unique label to each axes instance.\n",
            "/usr/local/lib/python3.6/dist-packages/ipykernel_launcher.py:208: MatplotlibDeprecationWarning: Adding an axes using the same arguments as a previous axes currently reuses the earlier instance.  In a future version, a new instance will always be created and returned.  Meanwhile, this warning can be suppressed, and the future behavior ensured, by passing a unique label to each axes instance.\n"
          ],
          "name": "stderr"
        },
        {
          "output_type": "stream",
          "text": [
            "train for epoch 57\n",
            "iteration (57000): loss = 1.887, accuracy = 0.875, time = 4:11:09.197681\n",
            "iteration (57100): loss = 1.882, accuracy = 1.000, time = 4:11:31.372048\n",
            "iteration (57200): loss = 1.915, accuracy = 0.875, time = 4:11:53.474516\n",
            "iteration (57300): loss = 1.948, accuracy = 0.625, time = 4:12:15.760982\n",
            "iteration (57400): loss = 1.970, accuracy = 0.875, time = 4:12:38.142437\n",
            "iteration (57500): loss = 1.935, accuracy = 0.750, time = 4:13:00.363697\n",
            "iteration (57600): loss = 1.839, accuracy = 1.000, time = 4:13:22.464690\n",
            "iteration (57700): loss = 1.923, accuracy = 0.750, time = 4:13:44.668535\n",
            "iteration (57800): loss = 1.867, accuracy = 0.875, time = 4:14:07.107295\n",
            "iteration (57900): loss = 1.982, accuracy = 0.750, time = 4:14:30.580217\n"
          ],
          "name": "stdout"
        },
        {
          "output_type": "stream",
          "text": [
            "/usr/local/lib/python3.6/dist-packages/ipykernel_launcher.py:180: MatplotlibDeprecationWarning: Adding an axes using the same arguments as a previous axes currently reuses the earlier instance.  In a future version, a new instance will always be created and returned.  Meanwhile, this warning can be suppressed, and the future behavior ensured, by passing a unique label to each axes instance.\n"
          ],
          "name": "stderr"
        },
        {
          "output_type": "stream",
          "text": [
            "validation for epoch 57\n",
            "eval_shape =  250\n",
            "-  epoch 57: validation accuracy = 0.895\n"
          ],
          "name": "stdout"
        },
        {
          "output_type": "stream",
          "text": [
            "/usr/local/lib/python3.6/dist-packages/ipykernel_launcher.py:200: MatplotlibDeprecationWarning: Adding an axes using the same arguments as a previous axes currently reuses the earlier instance.  In a future version, a new instance will always be created and returned.  Meanwhile, this warning can be suppressed, and the future behavior ensured, by passing a unique label to each axes instance.\n",
            "/usr/local/lib/python3.6/dist-packages/ipykernel_launcher.py:208: MatplotlibDeprecationWarning: Adding an axes using the same arguments as a previous axes currently reuses the earlier instance.  In a future version, a new instance will always be created and returned.  Meanwhile, this warning can be suppressed, and the future behavior ensured, by passing a unique label to each axes instance.\n"
          ],
          "name": "stderr"
        },
        {
          "output_type": "stream",
          "text": [
            "train for epoch 58\n",
            "iteration (58000): loss = 1.932, accuracy = 0.875, time = 4:16:04.199528\n",
            "iteration (58100): loss = 1.888, accuracy = 0.750, time = 4:16:27.056479\n",
            "iteration (58200): loss = 1.914, accuracy = 0.875, time = 4:16:49.444143\n",
            "iteration (58300): loss = 1.890, accuracy = 0.875, time = 4:17:11.811338\n",
            "iteration (58400): loss = 1.878, accuracy = 1.000, time = 4:17:34.235817\n",
            "iteration (58500): loss = 1.901, accuracy = 1.000, time = 4:17:56.636627\n",
            "iteration (58600): loss = 1.850, accuracy = 1.000, time = 4:18:19.038264\n",
            "iteration (58700): loss = 1.942, accuracy = 0.875, time = 4:18:41.406368\n",
            "iteration (58800): loss = 1.942, accuracy = 0.750, time = 4:19:03.713319\n",
            "iteration (58900): loss = 1.844, accuracy = 1.000, time = 4:19:25.950935\n"
          ],
          "name": "stdout"
        },
        {
          "output_type": "stream",
          "text": [
            "/usr/local/lib/python3.6/dist-packages/ipykernel_launcher.py:180: MatplotlibDeprecationWarning: Adding an axes using the same arguments as a previous axes currently reuses the earlier instance.  In a future version, a new instance will always be created and returned.  Meanwhile, this warning can be suppressed, and the future behavior ensured, by passing a unique label to each axes instance.\n"
          ],
          "name": "stderr"
        },
        {
          "output_type": "stream",
          "text": [
            "validation for epoch 58\n",
            "eval_shape =  250\n",
            "-  epoch 58: validation accuracy = 0.898\n"
          ],
          "name": "stdout"
        },
        {
          "output_type": "stream",
          "text": [
            "/usr/local/lib/python3.6/dist-packages/ipykernel_launcher.py:200: MatplotlibDeprecationWarning: Adding an axes using the same arguments as a previous axes currently reuses the earlier instance.  In a future version, a new instance will always be created and returned.  Meanwhile, this warning can be suppressed, and the future behavior ensured, by passing a unique label to each axes instance.\n",
            "/usr/local/lib/python3.6/dist-packages/ipykernel_launcher.py:208: MatplotlibDeprecationWarning: Adding an axes using the same arguments as a previous axes currently reuses the earlier instance.  In a future version, a new instance will always be created and returned.  Meanwhile, this warning can be suppressed, and the future behavior ensured, by passing a unique label to each axes instance.\n"
          ],
          "name": "stderr"
        },
        {
          "output_type": "stream",
          "text": [
            "train for epoch 59\n",
            "iteration (59000): loss = 1.899, accuracy = 1.000, time = 4:21:02.444406\n",
            "iteration (59100): loss = 1.869, accuracy = 1.000, time = 4:21:25.299097\n",
            "iteration (59200): loss = 1.903, accuracy = 1.000, time = 4:21:47.684457\n",
            "iteration (59300): loss = 1.910, accuracy = 1.000, time = 4:22:10.051924\n",
            "iteration (59400): loss = 1.992, accuracy = 0.875, time = 4:22:32.390132\n",
            "iteration (59500): loss = 1.890, accuracy = 1.000, time = 4:22:54.757782\n",
            "iteration (59600): loss = 1.917, accuracy = 0.875, time = 4:23:17.222403\n",
            "iteration (59700): loss = 1.852, accuracy = 1.000, time = 4:23:39.586041\n",
            "iteration (59800): loss = 1.836, accuracy = 1.000, time = 4:24:01.955403\n",
            "iteration (59900): loss = 1.831, accuracy = 1.000, time = 4:24:24.341400\n"
          ],
          "name": "stdout"
        }
      ]
    },
    {
      "cell_type": "code",
      "metadata": {
        "id": "ZObSyRfWrHX-"
      },
      "source": [
        ""
      ],
      "execution_count": null,
      "outputs": []
    }
  ]
}